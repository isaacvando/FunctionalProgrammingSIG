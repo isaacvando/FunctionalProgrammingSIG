{
 "cells": [
  {
   "cell_type": "markdown",
   "id": "d9ed4692-0b1d-4c16-9ec8-a591cb4fc8fe",
   "metadata": {},
   "source": [
    "## Functional Programming SIG 11.10.22"
   ]
  },
  {
   "cell_type": "code",
   "execution_count": 21,
   "id": "d16ddbf1-0662-4316-85cd-eb5a79111122",
   "metadata": {},
   "outputs": [],
   "source": [
    ":opt no-lint\n",
    "import Data.List"
   ]
  },
  {
   "cell_type": "markdown",
   "id": "b8327ae8-b4ef-4500-b22e-f8c6db20081a",
   "metadata": {},
   "source": [
    "### Infix operators"
   ]
  },
  {
   "cell_type": "code",
   "execution_count": 100,
   "id": "f15ff24b-633a-4a2b-b782-8c72dda8397d",
   "metadata": {},
   "outputs": [],
   "source": [
    "(+-+) :: (Num a, Ord a) => a -> a -> a\n",
    "x +-+ y\n",
    "    | x > 0 = x - y\n",
    "    | otherwise = x + y"
   ]
  },
  {
   "cell_type": "code",
   "execution_count": 104,
   "id": "1e2d074d-9c2e-4a79-a1e1-37cfe5262c94",
   "metadata": {},
   "outputs": [],
   "source": [
    "-- ($) :: (a -> b) -> a -> b"
   ]
  },
  {
   "cell_type": "code",
   "execution_count": 10,
   "id": "92672281-31f2-410d-ba9b-b4bfc58551d1",
   "metadata": {},
   "outputs": [
    {
     "data": {
      "text/plain": [
       "[4,4,0]"
      ]
     },
     "metadata": {},
     "output_type": "display_data"
    }
   ],
   "source": [
    "map ($ 2) [(+2), (*2), (`mod` 2)] :: [Int]"
   ]
  },
  {
   "cell_type": "code",
   "execution_count": 102,
   "id": "d0a4a98c-9008-4660-94b5-e78a195a3243",
   "metadata": {},
   "outputs": [
    {
     "data": {
      "text/plain": [
       "\"!ZRABOF\""
      ]
     },
     "metadata": {},
     "output_type": "display_data"
    },
    {
     "data": {
      "text/plain": [
       "\"!ZRABOF\""
      ]
     },
     "metadata": {},
     "output_type": "display_data"
    },
    {
     "data": {
      "text/plain": [
       "\"!ZRABOF\""
      ]
     },
     "metadata": {},
     "output_type": "display_data"
    }
   ],
   "source": [
    "reverse (nub (map toUpper \"fooBarrBaz!\"))\n",
    "reverse $ nub (map toUpper \"fooBarrBaz!\")\n",
    "reverse $ nub $ map toUpper \"fooBarrBaz!\"\n"
   ]
  },
  {
   "cell_type": "markdown",
   "id": "b37bec5d-ebd4-4858-af0b-faa009635f18",
   "metadata": {},
   "source": [
    "### Type Classes"
   ]
  },
  {
   "cell_type": "code",
   "execution_count": 11,
   "id": "11717556-bd04-4755-8737-f23cbadb51a4",
   "metadata": {},
   "outputs": [
    {
     "ename": "",
     "evalue": "",
     "output_type": "error",
     "traceback": [
      "<interactive>:2:17: error:\n    • No instance for (Num a) arising from a use of ‘+’\n      Possible fix:\n        add (Num a) to the context of\n          the type signature for:\n            addThings :: forall a. a -> a -> a\n    • In the expression: x + y\n      In an equation for ‘addThings’: addThings x y = x + y"
     ]
    }
   ],
   "source": [
    "addThings :: a -> a -> a\n",
    "addThings x y = x + y"
   ]
  },
  {
   "cell_type": "code",
   "execution_count": 15,
   "id": "27c2c7e8-f4e1-445f-bda0-a458c60452c4",
   "metadata": {},
   "outputs": [],
   "source": [
    "sortThings :: [a] -> [a]\n",
    "sortThings xs = sort xs"
   ]
  },
  {
   "cell_type": "code",
   "execution_count": 4,
   "id": "b0b282c1-2d13-42e2-a080-93ecf98d90bc",
   "metadata": {},
   "outputs": [
    {
     "data": {},
     "metadata": {},
     "output_type": "display_data"
    },
    {
     "data": {
      "text/plain": [
       "-1"
      ]
     },
     "metadata": {},
     "output_type": "display_data"
    },
    {
     "data": {
      "text/html": [
       "<div style='background: rgb(247, 247, 247);'><form><textarea id='code'>type Num :: * -> Constraint\n",
       "class Num a where\n",
       "  (+) :: a -> a -> a\n",
       "  (-) :: a -> a -> a\n",
       "  (*) :: a -> a -> a\n",
       "  negate :: a -> a\n",
       "  abs :: a -> a\n",
       "  signum :: a -> a\n",
       "  fromInteger :: Integer -> a\n",
       "  {-# MINIMAL (+), (*), abs, signum, fromInteger, (negate | (-)) #-}\n",
       "  \t-- Defined in ‘GHC.Num’\n",
       "instance Num PixCount -- Defined in ‘ihaskell-widgets-0.3.1.0:IHaskell.Display.Widgets.Common’\n",
       "instance Num Word -- Defined in ‘GHC.Num’\n",
       "instance Num Integer -- Defined in ‘GHC.Num’\n",
       "instance Num Int -- Defined in ‘GHC.Num’\n",
       "instance Num Float -- Defined in ‘GHC.Float’\n",
       "instance Num Double -- Defined in ‘GHC.Float’\n",
       "instance Num IHaskellTH.Type -- Defined in ‘Data.Reflection’\n",
       "instance Num a => Num (IHaskellTH.Q a) -- Defined in ‘Data.Reflection’\n",
       "instance Num IHaskellTH.Exp -- Defined in ‘Data.Reflection’\n",
       "</textarea></form></div><script>CodeMirror.fromTextArea(document.getElementById('code'), {mode: 'haskell', readOnly: 'nocursor'});</script>"
      ],
      "text/plain": [
       "type Num :: * -> Constraint\n",
       "class Num a where\n",
       "  (+) :: a -> a -> a\n",
       "  (-) :: a -> a -> a\n",
       "  (*) :: a -> a -> a\n",
       "  negate :: a -> a\n",
       "  abs :: a -> a\n",
       "  signum :: a -> a\n",
       "  fromInteger :: Integer -> a\n",
       "  {-# MINIMAL (+), (*), abs, signum, fromInteger, (negate | (-)) #-}\n",
       "  \t-- Defined in ‘GHC.Num’\n",
       "instance Num PixCount -- Defined in ‘ihaskell-widgets-0.3.1.0:IHaskell.Display.Widgets.Common’\n",
       "instance Num Word -- Defined in ‘GHC.Num’\n",
       "instance Num Integer -- Defined in ‘GHC.Num’\n",
       "instance Num Int -- Defined in ‘GHC.Num’\n",
       "instance Num Float -- Defined in ‘GHC.Float’\n",
       "instance Num Double -- Defined in ‘GHC.Float’\n",
       "instance Num IHaskellTH.Type -- Defined in ‘Data.Reflection’\n",
       "instance Num a => Num (IHaskellTH.Q a) -- Defined in ‘Data.Reflection’\n",
       "instance Num IHaskellTH.Exp -- Defined in ‘Data.Reflection’"
      ]
     },
     "metadata": {},
     "output_type": "display_data"
    }
   ],
   "source": [
    ":info Num"
   ]
  },
  {
   "cell_type": "code",
   "execution_count": null,
   "id": "8e323575-6222-4e05-a577-58bb83608557",
   "metadata": {},
   "outputs": [],
   "source": [
    ":info Integral"
   ]
  },
  {
   "cell_type": "code",
   "execution_count": null,
   "id": "03ba6fbe-4759-4dcc-9941-89148e86c56a",
   "metadata": {},
   "outputs": [],
   "source": [
    ":info Floating"
   ]
  },
  {
   "cell_type": "code",
   "execution_count": null,
   "id": "aad61648-9327-4b7a-bdca-33ee5d69799e",
   "metadata": {},
   "outputs": [],
   "source": [
    ":info Ord"
   ]
  },
  {
   "cell_type": "code",
   "execution_count": null,
   "id": "6dc56c22-b1a2-4241-8b0f-4d76071a6e43",
   "metadata": {},
   "outputs": [],
   "source": [
    ":info Eq"
   ]
  },
  {
   "cell_type": "code",
   "execution_count": null,
   "id": "44dadf29-4e36-4318-97f1-931afa1fba71",
   "metadata": {},
   "outputs": [],
   "source": [
    ":info Read"
   ]
  },
  {
   "cell_type": "code",
   "execution_count": null,
   "id": "6f45f71f-09e6-4788-80c4-4dc16b83301f",
   "metadata": {},
   "outputs": [],
   "source": [
    ":info Show"
   ]
  },
  {
   "cell_type": "code",
   "execution_count": 12,
   "id": "b3148cce-cc04-4d82-83a1-281539311afd",
   "metadata": {},
   "outputs": [],
   "source": [
    "class Boolish a where\n",
    "    truthy :: a -> Bool"
   ]
  },
  {
   "cell_type": "code",
   "execution_count": 13,
   "id": "2c046845-4d34-4455-9f15-40a3ae368d10",
   "metadata": {},
   "outputs": [],
   "source": [
    "instance Boolish Int where\n",
    "    truthy x = x /= 0"
   ]
  },
  {
   "cell_type": "code",
   "execution_count": 25,
   "id": "24e71f17-69fa-4297-b308-a99f5272e6bd",
   "metadata": {},
   "outputs": [],
   "source": [
    "instance Boolish Char where\n",
    "    truthy x = x < 'f'"
   ]
  },
  {
   "cell_type": "code",
   "execution_count": 28,
   "id": "52dec0a6-0353-4478-83f3-8cba6600fdc2",
   "metadata": {},
   "outputs": [
    {
     "data": {
      "text/plain": [
       "\"Important business logic\""
      ]
     },
     "metadata": {},
     "output_type": "display_data"
    }
   ],
   "source": [
    "foo :: Boolish a => a -> String\n",
    "foo x \n",
    "    | truthy x = \"Important business logic\"\n",
    "    | otherwise = \"Strategic business KPIs failed\""
   ]
  }
 ],
 "metadata": {
  "kernelspec": {
   "display_name": "Haskell",
   "language": "haskell",
   "name": "haskell"
  },
  "language_info": {
   "codemirror_mode": "ihaskell",
   "file_extension": ".hs",
   "mimetype": "text/x-haskell",
   "name": "haskell",
   "pygments_lexer": "Haskell",
   "version": "8.10.7"
  }
 },
 "nbformat": 4,
 "nbformat_minor": 5
}
