{
 "cells": [
  {
   "cell_type": "markdown",
   "id": "d9ed4692-0b1d-4c16-9ec8-a591cb4fc8fe",
   "metadata": {},
   "source": [
    "## Functional Programming SIG 11.10.22"
   ]
  },
  {
   "cell_type": "markdown",
   "id": "b8327ae8-b4ef-4500-b22e-f8c6db20081a",
   "metadata": {},
   "source": [
    "### Infix operators"
   ]
  },
  {
   "cell_type": "code",
   "execution_count": 100,
   "id": "f15ff24b-633a-4a2b-b782-8c72dda8397d",
   "metadata": {},
   "outputs": [],
   "source": [
    "(+-+) :: (Num a, Ord a) => a -> a -> a\n",
    "x +-+ y\n",
    "    | x > 0 = x - y\n",
    "    | otherwise = x + y"
   ]
  },
  {
   "cell_type": "code",
   "execution_count": 104,
   "id": "1e2d074d-9c2e-4a79-a1e1-37cfe5262c94",
   "metadata": {},
   "outputs": [],
   "source": [
    "-- ($) :: (a -> b) -> a -> b"
   ]
  },
  {
   "cell_type": "code",
   "execution_count": 102,
   "id": "d0a4a98c-9008-4660-94b5-e78a195a3243",
   "metadata": {},
   "outputs": [
    {
     "data": {
      "text/plain": [
       "\"!ZRABOF\""
      ]
     },
     "metadata": {},
     "output_type": "display_data"
    },
    {
     "data": {
      "text/plain": [
       "\"!ZRABOF\""
      ]
     },
     "metadata": {},
     "output_type": "display_data"
    },
    {
     "data": {
      "text/plain": [
       "\"!ZRABOF\""
      ]
     },
     "metadata": {},
     "output_type": "display_data"
    }
   ],
   "source": [
    "reverse (nub (map toUpper \"fooBarrBaz!\"))\n",
    "reverse $ nub (map toUpper \"fooBarrBaz!\")\n",
    "reverse $ nub $ map toUpper \"fooBarrBaz!\"\n"
   ]
  }
 ],
 "metadata": {
  "kernelspec": {
   "display_name": "Haskell",
   "language": "haskell",
   "name": "haskell"
  },
  "language_info": {
   "codemirror_mode": "ihaskell",
   "file_extension": ".hs",
   "mimetype": "text/x-haskell",
   "name": "haskell",
   "pygments_lexer": "Haskell",
   "version": "8.10.7"
  }
 },
 "nbformat": 4,
 "nbformat_minor": 5
}
