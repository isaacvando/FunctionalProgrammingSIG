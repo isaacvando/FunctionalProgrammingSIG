{
 "cells": [
  {
   "cell_type": "markdown",
   "id": "0a975546-f424-4d8f-b441-d301068cabf0",
   "metadata": {},
   "source": [
    "## Functional Programming SIG 10.27.22"
   ]
  },
  {
   "cell_type": "code",
   "execution_count": 42,
   "id": "703fcbb3-a433-45a0-badf-bd99dfb321be",
   "metadata": {},
   "outputs": [],
   "source": [
    ":opt no-lint\n",
    "import Data.List\n",
    "import GHC.Show\n",
    "import Data.Char"
   ]
  },
  {
   "cell_type": "markdown",
   "id": "349d4daf-89da-45c0-ba4e-c966ebaa5aa1",
   "metadata": {},
   "source": [
    "### Algebraic Data Types Review"
   ]
  },
  {
   "cell_type": "code",
   "execution_count": 10,
   "id": "f0705f38-0d4e-4e47-a145-82fc113e9edf",
   "metadata": {},
   "outputs": [],
   "source": [
    "giveMeAValue :: Int -> Either Double Bool\n",
    "giveMeAValue 0 = Right False\n",
    "giveMeAValue _ = Left 10.01"
   ]
  },
  {
   "cell_type": "code",
   "execution_count": 11,
   "id": "58a922b1-6c60-4e5b-9471-90b02a118574",
   "metadata": {},
   "outputs": [],
   "source": [
    "parse :: String -> Either String [String]\n",
    "parse s \n",
    "    | length s > 20 = Left \"Error! cannot parse strings longer than 10 characters\"\n",
    "    | null s = Left \"Error! empty string doesn't count okay\"\n",
    "    | otherwise = Right (words s)"
   ]
  },
  {
   "cell_type": "code",
   "execution_count": 12,
   "id": "28586757-2dab-4d54-b4ae-95c64775cef2",
   "metadata": {},
   "outputs": [],
   "source": [
    "spicyFunc :: (a -> b, a) -> b\n",
    "spicyFunc (f, x) = f x "
   ]
  },
  {
   "cell_type": "code",
   "execution_count": 13,
   "id": "63dccfa7-cea8-4288-8fcc-d7b03da5e796",
   "metadata": {},
   "outputs": [
    {
     "data": {
      "text/plain": [
       "(True,True)"
      ]
     },
     "metadata": {},
     "output_type": "display_data"
    },
    {
     "data": {
      "text/plain": [
       "(True,False)"
      ]
     },
     "metadata": {},
     "output_type": "display_data"
    },
    {
     "data": {
      "text/plain": [
       "(False,True)"
      ]
     },
     "metadata": {},
     "output_type": "display_data"
    },
    {
     "data": {
      "text/plain": [
       "(False,False)"
      ]
     },
     "metadata": {},
     "output_type": "display_data"
    }
   ],
   "source": [
    "(True, True) :: (Bool, Bool)\n",
    "(True, False) :: (Bool, Bool)\n",
    "(False, True) :: (Bool, Bool)\n",
    "(False, False) :: (Bool, Bool)"
   ]
  },
  {
   "cell_type": "markdown",
   "id": "39ff3820-4984-4cdb-8fe7-aeeaaf56344a",
   "metadata": {},
   "source": [
    "### The data and type keywords"
   ]
  },
  {
   "cell_type": "code",
   "execution_count": 14,
   "id": "0817f005-de42-41e8-a087-c2052b216089",
   "metadata": {},
   "outputs": [],
   "source": [
    "data MySumType = First | Second -- ~= Either () () ~= Bool\n",
    "\n",
    "data MyProductType = Product Bool String -- ~= (Bool, String)\n",
    "\n",
    "data JustADouble = ThisIsMyDouble Double -- ~= (Double)\n",
    "\n",
    "foo :: JustADouble\n",
    "foo = ThisIsMyDouble 89.9"
   ]
  },
  {
   "cell_type": "code",
   "execution_count": 15,
   "id": "1bdcedfe-47a1-41f6-b347-6ade4db7fde1",
   "metadata": {},
   "outputs": [
    {
     "data": {
      "text/plain": [
       "Olives"
      ]
     },
     "metadata": {},
     "output_type": "display_data"
    }
   ],
   "source": [
    "data PizzaTopping = Pepperoni | Cheese | Olives | Pudding \n",
    "    deriving (Show)\n",
    "\n",
    "favoriteTopping :: PizzaTopping\n",
    "favoriteTopping = Olives\n",
    "\n",
    "print favoriteTopping"
   ]
  },
  {
   "cell_type": "code",
   "execution_count": 16,
   "id": "2169d78e-e9ce-4163-b29e-bc83a9521a92",
   "metadata": {},
   "outputs": [],
   "source": [
    "data Shape = Circle (Double, Double) Double | Triangle (Double, Double) (Double, Double) (Double, Double)"
   ]
  },
  {
   "cell_type": "code",
   "execution_count": 17,
   "id": "952831b2-cf8b-4bc4-aa3b-e3c3adbffebc",
   "metadata": {},
   "outputs": [],
   "source": [
    "type Point = (Double, Double)\n",
    "type Radius = Double\n",
    "data Shape = Circle Point Radius | Triangle Point Point Point\n",
    "    deriving Show"
   ]
  },
  {
   "cell_type": "code",
   "execution_count": 18,
   "id": "4e723032-482d-496d-8c0a-01909c79b25d",
   "metadata": {},
   "outputs": [
    {
     "data": {
      "text/plain": [
       "Circle (10.3,10.5) 100.0"
      ]
     },
     "metadata": {},
     "output_type": "display_data"
    }
   ],
   "source": [
    "gimmeAShape :: Bool -> Shape\n",
    "gimmeAShape True = Circle (10.3,10.5) 100.0\n",
    "gimmeAShape False = Triangle (0.0, 1.1) (1.1, 2.2) (2.2, 3.3)\n",
    "\n",
    "gimmeAShape True"
   ]
  },
  {
   "cell_type": "code",
   "execution_count": 19,
   "id": "4d1e4e8f-9160-4774-85a6-b827db6318ef",
   "metadata": {},
   "outputs": [
    {
     "data": {
      "text/plain": [
       "2.2"
      ]
     },
     "metadata": {},
     "output_type": "display_data"
    }
   ],
   "source": [
    "eatShape :: Shape -> Double\n",
    "eatShape (Circle center radius) = radius\n",
    "eatShape (Triangle _ (_,y) _) = y\n",
    "\n",
    "eatShape (gimmeAShape False)"
   ]
  },
  {
   "cell_type": "code",
   "execution_count": 20,
   "id": "27f7b341-f86b-4e4f-b17d-cc5eab84c77f",
   "metadata": {},
   "outputs": [],
   "source": [
    "data Boo = Tru | Fals\n",
    "\n",
    "convert :: Boo -> Bool\n",
    "convert Tru = True\n",
    "convert Fals = False"
   ]
  },
  {
   "cell_type": "markdown",
   "id": "5de71136-9d61-4504-801d-ea99ab31d58a",
   "metadata": {},
   "source": [
    "#### Maybe"
   ]
  },
  {
   "cell_type": "code",
   "execution_count": 21,
   "id": "be66b790-192a-4cd4-b4bd-8b2673a90817",
   "metadata": {},
   "outputs": [
    {
     "data": {
      "text/plain": [
       "2"
      ]
     },
     "metadata": {},
     "output_type": "display_data"
    },
    {
     "ename": "",
     "evalue": "",
     "output_type": "error",
     "traceback": [
      "divide by zero"
     ]
    }
   ],
   "source": [
    "data Maybe a = Just a | Nothing \n",
    "    deriving (Show)\n",
    "\n",
    "divide :: Int -> Int -> Int\n",
    "divide x y = x `div` y\n",
    "\n",
    "divide 10 5\n",
    "divide 10 0"
   ]
  },
  {
   "cell_type": "code",
   "execution_count": 22,
   "id": "b6266cfd-de60-42ea-b76c-a3b5ff733fb4",
   "metadata": {},
   "outputs": [
    {
     "data": {
      "text/plain": [
       "Just 2"
      ]
     },
     "metadata": {},
     "output_type": "display_data"
    },
    {
     "data": {
      "text/plain": [
       "Nothing"
      ]
     },
     "metadata": {},
     "output_type": "display_data"
    }
   ],
   "source": [
    "divide' :: Int -> Int -> Maybe Int\n",
    "divide' x 0 = Nothing\n",
    "divide' x y = Just (x `div` y)\n",
    "\n",
    "divide' 10 5\n",
    "divide' 10 0"
   ]
  },
  {
   "cell_type": "code",
   "execution_count": 23,
   "id": "1fb9e81c-1262-40e4-8af6-0e5cec7db0a9",
   "metadata": {},
   "outputs": [
    {
     "data": {
      "text/plain": [
       "Left \"no\""
      ]
     },
     "metadata": {},
     "output_type": "display_data"
    },
    {
     "data": {
      "text/plain": [
       "Right 40"
      ]
     },
     "metadata": {},
     "output_type": "display_data"
    }
   ],
   "source": [
    "lameDivide :: Int -> Int -> Either String Int\n",
    "lameDivide _ 0 = Left \"no\"\n",
    "lameDivide 7 _ = Left \"sorry I don't like 7\"\n",
    "lameDivide x y = Right (x `div` y)\n",
    "\n",
    "lameDivide 9071 0\n",
    "lameDivide 80 2"
   ]
  },
  {
   "cell_type": "code",
   "execution_count": 24,
   "id": "70c696c5-7233-4973-908f-b9d5cc28c6fc",
   "metadata": {},
   "outputs": [
    {
     "data": {
      "text/html": [
       "<style>/* Styles used for the Hoogle display in the pager */\n",
       ".hoogle-doc {\n",
       "display: block;\n",
       "padding-bottom: 1.3em;\n",
       "padding-left: 0.4em;\n",
       "}\n",
       ".hoogle-code {\n",
       "display: block;\n",
       "font-family: monospace;\n",
       "white-space: pre;\n",
       "}\n",
       ".hoogle-text {\n",
       "display: block;\n",
       "}\n",
       ".hoogle-name {\n",
       "color: green;\n",
       "font-weight: bold;\n",
       "}\n",
       ".hoogle-head {\n",
       "font-weight: bold;\n",
       "}\n",
       ".hoogle-sub {\n",
       "display: block;\n",
       "margin-left: 0.4em;\n",
       "}\n",
       ".hoogle-package {\n",
       "font-weight: bold;\n",
       "font-style: italic;\n",
       "}\n",
       ".hoogle-module {\n",
       "font-weight: bold;\n",
       "}\n",
       ".hoogle-class {\n",
       "font-weight: bold;\n",
       "}\n",
       ".get-type {\n",
       "color: green;\n",
       "font-weight: bold;\n",
       "font-family: monospace;\n",
       "display: block;\n",
       "white-space: pre-wrap;\n",
       "}\n",
       ".show-type {\n",
       "color: green;\n",
       "font-weight: bold;\n",
       "font-family: monospace;\n",
       "margin-left: 1em;\n",
       "}\n",
       ".mono {\n",
       "font-family: monospace;\n",
       "display: block;\n",
       "}\n",
       ".err-msg {\n",
       "color: red;\n",
       "font-style: italic;\n",
       "font-family: monospace;\n",
       "white-space: pre;\n",
       "display: block;\n",
       "}\n",
       "#unshowable {\n",
       "color: red;\n",
       "font-weight: bold;\n",
       "}\n",
       ".err-msg.in.collapse {\n",
       "padding-top: 0.7em;\n",
       "}\n",
       ".highlight-code {\n",
       "white-space: pre;\n",
       "font-family: monospace;\n",
       "}\n",
       ".suggestion-warning { \n",
       "font-weight: bold;\n",
       "color: rgb(200, 130, 0);\n",
       "}\n",
       ".suggestion-error { \n",
       "font-weight: bold;\n",
       "color: red;\n",
       "}\n",
       ".suggestion-name {\n",
       "font-weight: bold;\n",
       "}\n",
       "</style><span class='get-type'>Just :: forall a. a -> Maybe a</span>"
      ],
      "text/plain": [
       "Just :: forall a. a -> Maybe a"
      ]
     },
     "metadata": {},
     "output_type": "display_data"
    },
    {
     "data": {
      "text/html": [
       "<style>/* Styles used for the Hoogle display in the pager */\n",
       ".hoogle-doc {\n",
       "display: block;\n",
       "padding-bottom: 1.3em;\n",
       "padding-left: 0.4em;\n",
       "}\n",
       ".hoogle-code {\n",
       "display: block;\n",
       "font-family: monospace;\n",
       "white-space: pre;\n",
       "}\n",
       ".hoogle-text {\n",
       "display: block;\n",
       "}\n",
       ".hoogle-name {\n",
       "color: green;\n",
       "font-weight: bold;\n",
       "}\n",
       ".hoogle-head {\n",
       "font-weight: bold;\n",
       "}\n",
       ".hoogle-sub {\n",
       "display: block;\n",
       "margin-left: 0.4em;\n",
       "}\n",
       ".hoogle-package {\n",
       "font-weight: bold;\n",
       "font-style: italic;\n",
       "}\n",
       ".hoogle-module {\n",
       "font-weight: bold;\n",
       "}\n",
       ".hoogle-class {\n",
       "font-weight: bold;\n",
       "}\n",
       ".get-type {\n",
       "color: green;\n",
       "font-weight: bold;\n",
       "font-family: monospace;\n",
       "display: block;\n",
       "white-space: pre-wrap;\n",
       "}\n",
       ".show-type {\n",
       "color: green;\n",
       "font-weight: bold;\n",
       "font-family: monospace;\n",
       "margin-left: 1em;\n",
       "}\n",
       ".mono {\n",
       "font-family: monospace;\n",
       "display: block;\n",
       "}\n",
       ".err-msg {\n",
       "color: red;\n",
       "font-style: italic;\n",
       "font-family: monospace;\n",
       "white-space: pre;\n",
       "display: block;\n",
       "}\n",
       "#unshowable {\n",
       "color: red;\n",
       "font-weight: bold;\n",
       "}\n",
       ".err-msg.in.collapse {\n",
       "padding-top: 0.7em;\n",
       "}\n",
       ".highlight-code {\n",
       "white-space: pre;\n",
       "font-family: monospace;\n",
       "}\n",
       ".suggestion-warning { \n",
       "font-weight: bold;\n",
       "color: rgb(200, 130, 0);\n",
       "}\n",
       ".suggestion-error { \n",
       "font-weight: bold;\n",
       "color: red;\n",
       "}\n",
       ".suggestion-name {\n",
       "font-weight: bold;\n",
       "}\n",
       "</style><span class='get-type'>Nothing :: forall a. Maybe a</span>"
      ],
      "text/plain": [
       "Nothing :: forall a. Maybe a"
      ]
     },
     "metadata": {},
     "output_type": "display_data"
    },
    {
     "data": {
      "text/html": [
       "<style>/* Styles used for the Hoogle display in the pager */\n",
       ".hoogle-doc {\n",
       "display: block;\n",
       "padding-bottom: 1.3em;\n",
       "padding-left: 0.4em;\n",
       "}\n",
       ".hoogle-code {\n",
       "display: block;\n",
       "font-family: monospace;\n",
       "white-space: pre;\n",
       "}\n",
       ".hoogle-text {\n",
       "display: block;\n",
       "}\n",
       ".hoogle-name {\n",
       "color: green;\n",
       "font-weight: bold;\n",
       "}\n",
       ".hoogle-head {\n",
       "font-weight: bold;\n",
       "}\n",
       ".hoogle-sub {\n",
       "display: block;\n",
       "margin-left: 0.4em;\n",
       "}\n",
       ".hoogle-package {\n",
       "font-weight: bold;\n",
       "font-style: italic;\n",
       "}\n",
       ".hoogle-module {\n",
       "font-weight: bold;\n",
       "}\n",
       ".hoogle-class {\n",
       "font-weight: bold;\n",
       "}\n",
       ".get-type {\n",
       "color: green;\n",
       "font-weight: bold;\n",
       "font-family: monospace;\n",
       "display: block;\n",
       "white-space: pre-wrap;\n",
       "}\n",
       ".show-type {\n",
       "color: green;\n",
       "font-weight: bold;\n",
       "font-family: monospace;\n",
       "margin-left: 1em;\n",
       "}\n",
       ".mono {\n",
       "font-family: monospace;\n",
       "display: block;\n",
       "}\n",
       ".err-msg {\n",
       "color: red;\n",
       "font-style: italic;\n",
       "font-family: monospace;\n",
       "white-space: pre;\n",
       "display: block;\n",
       "}\n",
       "#unshowable {\n",
       "color: red;\n",
       "font-weight: bold;\n",
       "}\n",
       ".err-msg.in.collapse {\n",
       "padding-top: 0.7em;\n",
       "}\n",
       ".highlight-code {\n",
       "white-space: pre;\n",
       "font-family: monospace;\n",
       "}\n",
       ".suggestion-warning { \n",
       "font-weight: bold;\n",
       "color: rgb(200, 130, 0);\n",
       "}\n",
       ".suggestion-error { \n",
       "font-weight: bold;\n",
       "color: red;\n",
       "}\n",
       ".suggestion-name {\n",
       "font-weight: bold;\n",
       "}\n",
       "</style><span class='get-type'>Left :: forall a b. a -> Either a b</span>"
      ],
      "text/plain": [
       "Left :: forall a b. a -> Either a b"
      ]
     },
     "metadata": {},
     "output_type": "display_data"
    },
    {
     "data": {
      "text/html": [
       "<style>/* Styles used for the Hoogle display in the pager */\n",
       ".hoogle-doc {\n",
       "display: block;\n",
       "padding-bottom: 1.3em;\n",
       "padding-left: 0.4em;\n",
       "}\n",
       ".hoogle-code {\n",
       "display: block;\n",
       "font-family: monospace;\n",
       "white-space: pre;\n",
       "}\n",
       ".hoogle-text {\n",
       "display: block;\n",
       "}\n",
       ".hoogle-name {\n",
       "color: green;\n",
       "font-weight: bold;\n",
       "}\n",
       ".hoogle-head {\n",
       "font-weight: bold;\n",
       "}\n",
       ".hoogle-sub {\n",
       "display: block;\n",
       "margin-left: 0.4em;\n",
       "}\n",
       ".hoogle-package {\n",
       "font-weight: bold;\n",
       "font-style: italic;\n",
       "}\n",
       ".hoogle-module {\n",
       "font-weight: bold;\n",
       "}\n",
       ".hoogle-class {\n",
       "font-weight: bold;\n",
       "}\n",
       ".get-type {\n",
       "color: green;\n",
       "font-weight: bold;\n",
       "font-family: monospace;\n",
       "display: block;\n",
       "white-space: pre-wrap;\n",
       "}\n",
       ".show-type {\n",
       "color: green;\n",
       "font-weight: bold;\n",
       "font-family: monospace;\n",
       "margin-left: 1em;\n",
       "}\n",
       ".mono {\n",
       "font-family: monospace;\n",
       "display: block;\n",
       "}\n",
       ".err-msg {\n",
       "color: red;\n",
       "font-style: italic;\n",
       "font-family: monospace;\n",
       "white-space: pre;\n",
       "display: block;\n",
       "}\n",
       "#unshowable {\n",
       "color: red;\n",
       "font-weight: bold;\n",
       "}\n",
       ".err-msg.in.collapse {\n",
       "padding-top: 0.7em;\n",
       "}\n",
       ".highlight-code {\n",
       "white-space: pre;\n",
       "font-family: monospace;\n",
       "}\n",
       ".suggestion-warning { \n",
       "font-weight: bold;\n",
       "color: rgb(200, 130, 0);\n",
       "}\n",
       ".suggestion-error { \n",
       "font-weight: bold;\n",
       "color: red;\n",
       "}\n",
       ".suggestion-name {\n",
       "font-weight: bold;\n",
       "}\n",
       "</style><span class='get-type'>True :: Bool</span>"
      ],
      "text/plain": [
       "True :: Bool"
      ]
     },
     "metadata": {},
     "output_type": "display_data"
    },
    {
     "data": {
      "text/html": [
       "<style>/* Styles used for the Hoogle display in the pager */\n",
       ".hoogle-doc {\n",
       "display: block;\n",
       "padding-bottom: 1.3em;\n",
       "padding-left: 0.4em;\n",
       "}\n",
       ".hoogle-code {\n",
       "display: block;\n",
       "font-family: monospace;\n",
       "white-space: pre;\n",
       "}\n",
       ".hoogle-text {\n",
       "display: block;\n",
       "}\n",
       ".hoogle-name {\n",
       "color: green;\n",
       "font-weight: bold;\n",
       "}\n",
       ".hoogle-head {\n",
       "font-weight: bold;\n",
       "}\n",
       ".hoogle-sub {\n",
       "display: block;\n",
       "margin-left: 0.4em;\n",
       "}\n",
       ".hoogle-package {\n",
       "font-weight: bold;\n",
       "font-style: italic;\n",
       "}\n",
       ".hoogle-module {\n",
       "font-weight: bold;\n",
       "}\n",
       ".hoogle-class {\n",
       "font-weight: bold;\n",
       "}\n",
       ".get-type {\n",
       "color: green;\n",
       "font-weight: bold;\n",
       "font-family: monospace;\n",
       "display: block;\n",
       "white-space: pre-wrap;\n",
       "}\n",
       ".show-type {\n",
       "color: green;\n",
       "font-weight: bold;\n",
       "font-family: monospace;\n",
       "margin-left: 1em;\n",
       "}\n",
       ".mono {\n",
       "font-family: monospace;\n",
       "display: block;\n",
       "}\n",
       ".err-msg {\n",
       "color: red;\n",
       "font-style: italic;\n",
       "font-family: monospace;\n",
       "white-space: pre;\n",
       "display: block;\n",
       "}\n",
       "#unshowable {\n",
       "color: red;\n",
       "font-weight: bold;\n",
       "}\n",
       ".err-msg.in.collapse {\n",
       "padding-top: 0.7em;\n",
       "}\n",
       ".highlight-code {\n",
       "white-space: pre;\n",
       "font-family: monospace;\n",
       "}\n",
       ".suggestion-warning { \n",
       "font-weight: bold;\n",
       "color: rgb(200, 130, 0);\n",
       "}\n",
       ".suggestion-error { \n",
       "font-weight: bold;\n",
       "color: red;\n",
       "}\n",
       ".suggestion-name {\n",
       "font-weight: bold;\n",
       "}\n",
       "</style><span class='get-type'>Pepperoni :: PizzaTopping</span>"
      ],
      "text/plain": [
       "Pepperoni :: PizzaTopping"
      ]
     },
     "metadata": {},
     "output_type": "display_data"
    }
   ],
   "source": [
    ":type Just\n",
    ":type Nothing\n",
    ":type Left\n",
    ":type True\n",
    ":type Pepperoni"
   ]
  },
  {
   "cell_type": "code",
   "execution_count": 25,
   "id": "135c4054-6891-42a6-b1e5-280d92827851",
   "metadata": {},
   "outputs": [
    {
     "data": {
      "text/plain": [
       "\"12\""
      ]
     },
     "metadata": {},
     "output_type": "display_data"
    }
   ],
   "source": [
    "data Person = Person {name :: String, phone :: String, likesHaskell :: Bool}\n",
    "    deriving Show\n",
    "            \n",
    "isaac :: Person\n",
    "isaac = Person {name = \"Isaac\", phone = \"12\", likesHaskell = True}\n",
    "\n",
    "phone isaac"
   ]
  },
  {
   "cell_type": "code",
   "execution_count": 26,
   "id": "724ddff7-444f-4cad-a34a-297a18cf446f",
   "metadata": {},
   "outputs": [
    {
     "data": {
      "text/html": [
       "<style>/* Styles used for the Hoogle display in the pager */\n",
       ".hoogle-doc {\n",
       "display: block;\n",
       "padding-bottom: 1.3em;\n",
       "padding-left: 0.4em;\n",
       "}\n",
       ".hoogle-code {\n",
       "display: block;\n",
       "font-family: monospace;\n",
       "white-space: pre;\n",
       "}\n",
       ".hoogle-text {\n",
       "display: block;\n",
       "}\n",
       ".hoogle-name {\n",
       "color: green;\n",
       "font-weight: bold;\n",
       "}\n",
       ".hoogle-head {\n",
       "font-weight: bold;\n",
       "}\n",
       ".hoogle-sub {\n",
       "display: block;\n",
       "margin-left: 0.4em;\n",
       "}\n",
       ".hoogle-package {\n",
       "font-weight: bold;\n",
       "font-style: italic;\n",
       "}\n",
       ".hoogle-module {\n",
       "font-weight: bold;\n",
       "}\n",
       ".hoogle-class {\n",
       "font-weight: bold;\n",
       "}\n",
       ".get-type {\n",
       "color: green;\n",
       "font-weight: bold;\n",
       "font-family: monospace;\n",
       "display: block;\n",
       "white-space: pre-wrap;\n",
       "}\n",
       ".show-type {\n",
       "color: green;\n",
       "font-weight: bold;\n",
       "font-family: monospace;\n",
       "margin-left: 1em;\n",
       "}\n",
       ".mono {\n",
       "font-family: monospace;\n",
       "display: block;\n",
       "}\n",
       ".err-msg {\n",
       "color: red;\n",
       "font-style: italic;\n",
       "font-family: monospace;\n",
       "white-space: pre;\n",
       "display: block;\n",
       "}\n",
       "#unshowable {\n",
       "color: red;\n",
       "font-weight: bold;\n",
       "}\n",
       ".err-msg.in.collapse {\n",
       "padding-top: 0.7em;\n",
       "}\n",
       ".highlight-code {\n",
       "white-space: pre;\n",
       "font-family: monospace;\n",
       "}\n",
       ".suggestion-warning { \n",
       "font-weight: bold;\n",
       "color: rgb(200, 130, 0);\n",
       "}\n",
       ".suggestion-error { \n",
       "font-weight: bold;\n",
       "color: red;\n",
       "}\n",
       ".suggestion-name {\n",
       "font-weight: bold;\n",
       "}\n",
       "</style><span class='get-type'>name :: Person -> String</span>"
      ],
      "text/plain": [
       "name :: Person -> String"
      ]
     },
     "metadata": {},
     "output_type": "display_data"
    },
    {
     "data": {
      "text/html": [
       "<style>/* Styles used for the Hoogle display in the pager */\n",
       ".hoogle-doc {\n",
       "display: block;\n",
       "padding-bottom: 1.3em;\n",
       "padding-left: 0.4em;\n",
       "}\n",
       ".hoogle-code {\n",
       "display: block;\n",
       "font-family: monospace;\n",
       "white-space: pre;\n",
       "}\n",
       ".hoogle-text {\n",
       "display: block;\n",
       "}\n",
       ".hoogle-name {\n",
       "color: green;\n",
       "font-weight: bold;\n",
       "}\n",
       ".hoogle-head {\n",
       "font-weight: bold;\n",
       "}\n",
       ".hoogle-sub {\n",
       "display: block;\n",
       "margin-left: 0.4em;\n",
       "}\n",
       ".hoogle-package {\n",
       "font-weight: bold;\n",
       "font-style: italic;\n",
       "}\n",
       ".hoogle-module {\n",
       "font-weight: bold;\n",
       "}\n",
       ".hoogle-class {\n",
       "font-weight: bold;\n",
       "}\n",
       ".get-type {\n",
       "color: green;\n",
       "font-weight: bold;\n",
       "font-family: monospace;\n",
       "display: block;\n",
       "white-space: pre-wrap;\n",
       "}\n",
       ".show-type {\n",
       "color: green;\n",
       "font-weight: bold;\n",
       "font-family: monospace;\n",
       "margin-left: 1em;\n",
       "}\n",
       ".mono {\n",
       "font-family: monospace;\n",
       "display: block;\n",
       "}\n",
       ".err-msg {\n",
       "color: red;\n",
       "font-style: italic;\n",
       "font-family: monospace;\n",
       "white-space: pre;\n",
       "display: block;\n",
       "}\n",
       "#unshowable {\n",
       "color: red;\n",
       "font-weight: bold;\n",
       "}\n",
       ".err-msg.in.collapse {\n",
       "padding-top: 0.7em;\n",
       "}\n",
       ".highlight-code {\n",
       "white-space: pre;\n",
       "font-family: monospace;\n",
       "}\n",
       ".suggestion-warning { \n",
       "font-weight: bold;\n",
       "color: rgb(200, 130, 0);\n",
       "}\n",
       ".suggestion-error { \n",
       "font-weight: bold;\n",
       "color: red;\n",
       "}\n",
       ".suggestion-name {\n",
       "font-weight: bold;\n",
       "}\n",
       "</style><span class='get-type'>phone :: Person -> String</span>"
      ],
      "text/plain": [
       "phone :: Person -> String"
      ]
     },
     "metadata": {},
     "output_type": "display_data"
    },
    {
     "data": {
      "text/html": [
       "<style>/* Styles used for the Hoogle display in the pager */\n",
       ".hoogle-doc {\n",
       "display: block;\n",
       "padding-bottom: 1.3em;\n",
       "padding-left: 0.4em;\n",
       "}\n",
       ".hoogle-code {\n",
       "display: block;\n",
       "font-family: monospace;\n",
       "white-space: pre;\n",
       "}\n",
       ".hoogle-text {\n",
       "display: block;\n",
       "}\n",
       ".hoogle-name {\n",
       "color: green;\n",
       "font-weight: bold;\n",
       "}\n",
       ".hoogle-head {\n",
       "font-weight: bold;\n",
       "}\n",
       ".hoogle-sub {\n",
       "display: block;\n",
       "margin-left: 0.4em;\n",
       "}\n",
       ".hoogle-package {\n",
       "font-weight: bold;\n",
       "font-style: italic;\n",
       "}\n",
       ".hoogle-module {\n",
       "font-weight: bold;\n",
       "}\n",
       ".hoogle-class {\n",
       "font-weight: bold;\n",
       "}\n",
       ".get-type {\n",
       "color: green;\n",
       "font-weight: bold;\n",
       "font-family: monospace;\n",
       "display: block;\n",
       "white-space: pre-wrap;\n",
       "}\n",
       ".show-type {\n",
       "color: green;\n",
       "font-weight: bold;\n",
       "font-family: monospace;\n",
       "margin-left: 1em;\n",
       "}\n",
       ".mono {\n",
       "font-family: monospace;\n",
       "display: block;\n",
       "}\n",
       ".err-msg {\n",
       "color: red;\n",
       "font-style: italic;\n",
       "font-family: monospace;\n",
       "white-space: pre;\n",
       "display: block;\n",
       "}\n",
       "#unshowable {\n",
       "color: red;\n",
       "font-weight: bold;\n",
       "}\n",
       ".err-msg.in.collapse {\n",
       "padding-top: 0.7em;\n",
       "}\n",
       ".highlight-code {\n",
       "white-space: pre;\n",
       "font-family: monospace;\n",
       "}\n",
       ".suggestion-warning { \n",
       "font-weight: bold;\n",
       "color: rgb(200, 130, 0);\n",
       "}\n",
       ".suggestion-error { \n",
       "font-weight: bold;\n",
       "color: red;\n",
       "}\n",
       ".suggestion-name {\n",
       "font-weight: bold;\n",
       "}\n",
       "</style><span class='get-type'>likesHaskell :: Person -> Bool</span>"
      ],
      "text/plain": [
       "likesHaskell :: Person -> Bool"
      ]
     },
     "metadata": {},
     "output_type": "display_data"
    }
   ],
   "source": [
    ":type name\n",
    ":type phone\n",
    ":type likesHaskell"
   ]
  },
  {
   "cell_type": "code",
   "execution_count": 27,
   "id": "39912891-e0f0-45dd-8252-64ef1aa32cf2",
   "metadata": {},
   "outputs": [],
   "source": [
    "data Tree a = Empty | Node a (Tree a) (Tree a)\n",
    "    deriving Show\n",
    "    \n",
    "myTree = Empty\n",
    "myBetterTree = Node \"I'm the root\" Empty (Node \"I'm a right child\" Empty Empty)"
   ]
  },
  {
   "cell_type": "code",
   "execution_count": 28,
   "id": "80b57f61-eb5c-49ff-ac68-c9e79149716c",
   "metadata": {},
   "outputs": [
    {
     "data": {
      "text/plain": [
       "Node 10 (Node (-10) Empty Empty) (Node 20 Empty Empty)"
      ]
     },
     "metadata": {},
     "output_type": "display_data"
    }
   ],
   "source": [
    "insert :: Ord a => Tree a -> a -> Tree a\n",
    "insert Empty val = Node val Empty Empty\n",
    "insert (Node x left right) val = if val < x then Node x (insert left val) right else Node x left (insert right val)\n",
    "\n",
    "insert (insert (insert Empty 10) 20) (-10)"
   ]
  },
  {
   "cell_type": "code",
   "execution_count": 29,
   "id": "324f34d2-b791-49f5-80df-09cf4947fc94",
   "metadata": {},
   "outputs": [
    {
     "data": {
      "text/plain": [
       "Node 0 (Node (-98) Empty Empty) (Node 900 (Node 4 (Node 3 (Node 2 (Node 1 Empty Empty) Empty) Empty) Empty) Empty)"
      ]
     },
     "metadata": {},
     "output_type": "display_data"
    }
   ],
   "source": [
    "fromList :: Ord a => [a] -> Tree a\n",
    "fromList xs = foldr (\\x acc -> insert acc x) Empty xs\n",
    "\n",
    "fromList [1,2,3,4,900,-98,0]"
   ]
  },
  {
   "cell_type": "code",
   "execution_count": 30,
   "id": "6ab75582-c56f-410b-83a4-0ea9d103268e",
   "metadata": {},
   "outputs": [],
   "source": [
    "toList :: Tree a -> [a]\n",
    "toList Empty = []\n",
    "toList (Node x left right) = toList left ++ [x] ++ toList right"
   ]
  },
  {
   "cell_type": "code",
   "execution_count": 31,
   "id": "ec12cd31-2d8e-4ecd-837f-e50f7785856b",
   "metadata": {},
   "outputs": [],
   "source": [
    "getValue :: Tree a -> Maybe a \n",
    "getValue Empty = Nothing\n",
    "getValue (Node x _ _) = Just x"
   ]
  },
  {
   "cell_type": "code",
   "execution_count": 32,
   "id": "332cc2e4-150c-45c3-9121-4f7c7df587fb",
   "metadata": {},
   "outputs": [],
   "source": [
    "getSubtrees :: Tree a -> [Tree a]\n",
    "getSubtrees Empty = [Empty, Empty]\n",
    "getSubtrees (Node x left right) = [left, right]"
   ]
  },
  {
   "cell_type": "code",
   "execution_count": 33,
   "id": "663c3fd3-1bcd-4336-b571-27dc91b87beb",
   "metadata": {},
   "outputs": [],
   "source": [
    "-- toString :: Show a => Tree a -> String\n",
    "-- toString Empty = \"\"\n",
    "-- toString tree = f [getValue tree] (getSubtrees tree)\n",
    "--     where\n",
    "--         f [] _ = \"\"\n",
    "--         f vals trees = unwords (map (\\x -> show' x ++ \"  \") vals) ++ \"\\n\" ++ f (map getValue trees) (concat (map getSubtrees trees))\n",
    "--         show' Nothing = \"\"\n",
    "--         show' (Just x) = show x\n",
    "        \n",
    "-- (putStrLn . toString . fromList) [1,2,3,4,900,-98,0]"
   ]
  },
  {
   "cell_type": "markdown",
   "id": "e4df5cc2-79e3-48a8-a03e-cf85369f8ce8",
   "metadata": {},
   "source": [
    "### Function Composition and Point Free Style"
   ]
  },
  {
   "cell_type": "code",
   "execution_count": 34,
   "id": "8944ce5d-b1b9-4fef-b734-17907af4dffc",
   "metadata": {},
   "outputs": [],
   "source": [
    "(.) :: (b -> c) -> (a -> b) -> (a -> c)\n",
    "f . g = \\x -> f (g x)"
   ]
  },
  {
   "cell_type": "code",
   "execution_count": 40,
   "id": "5503a481-6b17-4970-ba68-f512925b0648",
   "metadata": {},
   "outputs": [
    {
     "data": {
      "text/plain": [
       "[1,2,3,4,5,6,7,8]"
      ]
     },
     "metadata": {},
     "output_type": "display_data"
    },
    {
     "data": {
      "text/plain": [
       "[1,2,3,4,5,6,7,8]"
      ]
     },
     "metadata": {},
     "output_type": "display_data"
    }
   ],
   "source": [
    "toList (fromList [8,2,4,1,6,5,7,3])\n",
    "(toList . fromList) [8,2,4,1,6,5,7,3]"
   ]
  },
  {
   "cell_type": "code",
   "execution_count": 36,
   "id": "0e9a6511-c1f9-430a-a764-66628a0fb998",
   "metadata": {},
   "outputs": [
    {
     "ename": "",
     "evalue": "",
     "output_type": "error",
     "traceback": [
      "<interactive>:1:5: error:\n    The operator ‘mod’ [infixl 7] of a section\n        must have lower precedence than that of the operand, namely ‘==’ [infix 4]\n        in the section: ‘`mod` 3 == 0’"
     ]
    }
   ],
   "source": [
    "map (`mod` 3 == 0) [1..100]"
   ]
  },
  {
   "cell_type": "code",
   "execution_count": 37,
   "id": "c018f916-9353-4212-a36c-7cf0a933f395",
   "metadata": {},
   "outputs": [
    {
     "data": {
      "text/plain": [
       "[False,False,True,False,False,True,False,False,True,False,False,True,False,False,True,False,False,True,False,False,True,False,False,True,False,False,True,False,False,True,False,False,True,False,False,True,False,False,True,False,False,True,False,False,True,False,False,True,False,False,True,False,False,True,False,False,True,False,False,True,False,False,True,False,False,True,False,False,True,False,False,True,False,False,True,False,False,True,False,False,True,False,False,True,False,False,True,False,False,True,False,False,True,False,False,True,False,False,True,False]"
      ]
     },
     "metadata": {},
     "output_type": "display_data"
    }
   ],
   "source": [
    "map ((==0) . (`mod` 3)) [1..100]"
   ]
  },
  {
   "cell_type": "code",
   "execution_count": 48,
   "id": "167bc942-bc55-4264-84bb-79ad66dd3f8e",
   "metadata": {},
   "outputs": [
    {
     "data": {
      "text/plain": [
       "1"
      ]
     },
     "metadata": {},
     "output_type": "display_data"
    }
   ],
   "source": [
    "count :: String -> Int\n",
    "count xs = length (nub (map toUpper (filter isAlpha xs)))\n",
    "\n",
    "count' :: String -> Int\n",
    "count' xs = (length . nub . (map toUpper) . (filter isAlpha)) xs"
   ]
  },
  {
   "cell_type": "code",
   "execution_count": 50,
   "id": "f9e008f3-4407-42ee-bebc-33f4a446cc82",
   "metadata": {},
   "outputs": [
    {
     "data": {
      "text/plain": [
       "[\"aldi\",\"hyvee\",\"walmart\"]"
      ]
     },
     "metadata": {},
     "output_type": "display_data"
    }
   ],
   "source": [
    "map ((map toLower) . fst) [(\"Aldi\", 100), (\"Hyvee\", 45), (\"Walmart\", 40)]"
   ]
  },
  {
   "cell_type": "code",
   "execution_count": null,
   "id": "87b0a7a8-df04-4c5d-ad94-dba974ac09f2",
   "metadata": {},
   "outputs": [],
   "source": [
    "getFirst :: [a] -> a\n",
    "getFirst xs = head xs\n",
    "\n",
    "getFirst' :: [a] -> a\n",
    "getFirst' = head"
   ]
  },
  {
   "cell_type": "code",
   "execution_count": 51,
   "id": "0dc2f89d-de5c-4d9f-bd3d-af7412ecc999",
   "metadata": {},
   "outputs": [],
   "source": [
    "count'' :: String -> Int\n",
    "count'' = length . nub . (map toUpper) . (filter isAlpha)"
   ]
  },
  {
   "cell_type": "code",
   "execution_count": null,
   "id": "01715152-2dff-49c6-8f4a-cc5315568e70",
   "metadata": {},
   "outputs": [],
   "source": [
    "add"
   ]
  }
 ],
 "metadata": {
  "kernelspec": {
   "display_name": "Haskell",
   "language": "haskell",
   "name": "haskell"
  },
  "language_info": {
   "codemirror_mode": "ihaskell",
   "file_extension": ".hs",
   "mimetype": "text/x-haskell",
   "name": "haskell",
   "pygments_lexer": "Haskell",
   "version": "8.10.7"
  }
 },
 "nbformat": 4,
 "nbformat_minor": 5
}
