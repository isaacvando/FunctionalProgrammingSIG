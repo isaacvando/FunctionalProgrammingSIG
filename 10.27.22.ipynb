{
 "cells": [
  {
   "cell_type": "markdown",
   "id": "0a975546-f424-4d8f-b441-d301068cabf0",
   "metadata": {},
   "source": [
    "## Functional Programming SIG 10.27.22"
   ]
  },
  {
   "cell_type": "code",
   "execution_count": 66,
   "id": "703fcbb3-a433-45a0-badf-bd99dfb321be",
   "metadata": {},
   "outputs": [],
   "source": [
    ":opt no-lint\n",
    "import Data.List\n",
    "import GHC.Show\n",
    "import Data.Char\n",
    "import Control.Monad"
   ]
  },
  {
   "cell_type": "markdown",
   "id": "349d4daf-89da-45c0-ba4e-c966ebaa5aa1",
   "metadata": {},
   "source": [
    "### Algebraic Data Types Review"
   ]
  },
  {
   "cell_type": "code",
   "execution_count": 67,
   "id": "f0705f38-0d4e-4e47-a145-82fc113e9edf",
   "metadata": {},
   "outputs": [],
   "source": [
    "giveMeAValue :: Int -> Either Double Bool\n",
    "giveMeAValue 0 = Right False\n",
    "giveMeAValue _ = Left 10.01"
   ]
  },
  {
   "cell_type": "code",
   "execution_count": 68,
   "id": "58a922b1-6c60-4e5b-9471-90b02a118574",
   "metadata": {},
   "outputs": [],
   "source": [
    "parse :: String -> Either String [String]\n",
    "parse s \n",
    "    | length s > 20 = Left \"Error! cannot parse strings longer than 10 characters\"\n",
    "    | null s = Left \"Error! empty string doesn't count okay\"\n",
    "    | otherwise = Right (words s)"
   ]
  },
  {
   "cell_type": "code",
   "execution_count": 69,
   "id": "28586757-2dab-4d54-b4ae-95c64775cef2",
   "metadata": {},
   "outputs": [],
   "source": [
    "spicyFunc :: (a -> b, a) -> b\n",
    "spicyFunc (f, x) = f x "
   ]
  },
  {
   "cell_type": "code",
   "execution_count": 70,
   "id": "63dccfa7-cea8-4288-8fcc-d7b03da5e796",
   "metadata": {},
   "outputs": [
    {
     "data": {
      "text/plain": [
       "(True,True)"
      ]
     },
     "metadata": {},
     "output_type": "display_data"
    },
    {
     "data": {
      "text/plain": [
       "(True,False)"
      ]
     },
     "metadata": {},
     "output_type": "display_data"
    },
    {
     "data": {
      "text/plain": [
       "(False,True)"
      ]
     },
     "metadata": {},
     "output_type": "display_data"
    },
    {
     "data": {
      "text/plain": [
       "(False,False)"
      ]
     },
     "metadata": {},
     "output_type": "display_data"
    }
   ],
   "source": [
    "(True, True) :: (Bool, Bool)\n",
    "(True, False) :: (Bool, Bool)\n",
    "(False, True) :: (Bool, Bool)\n",
    "(False, False) :: (Bool, Bool)"
   ]
  },
  {
   "cell_type": "markdown",
   "id": "39ff3820-4984-4cdb-8fe7-aeeaaf56344a",
   "metadata": {},
   "source": [
    "### The data and type keywords"
   ]
  },
  {
   "cell_type": "code",
   "execution_count": 71,
   "id": "0817f005-de42-41e8-a087-c2052b216089",
   "metadata": {},
   "outputs": [],
   "source": [
    "data MySumType = First | Second -- ~= Either () () ~= Bool\n",
    "\n",
    "data MyProductType = Product Bool String -- ~= (Bool, String)\n",
    "\n",
    "data JustADouble = ThisIsMyDouble Double -- ~= (Double)\n",
    "\n",
    "foo :: JustADouble\n",
    "foo = ThisIsMyDouble 89.9"
   ]
  },
  {
   "cell_type": "code",
   "execution_count": 72,
   "id": "1bdcedfe-47a1-41f6-b347-6ade4db7fde1",
   "metadata": {},
   "outputs": [
    {
     "data": {
      "text/plain": [
       "Olives"
      ]
     },
     "metadata": {},
     "output_type": "display_data"
    }
   ],
   "source": [
    "data PizzaTopping = Pepperoni | Cheese | Olives | Pudding \n",
    "    deriving (Show)\n",
    "\n",
    "favoriteTopping :: PizzaTopping\n",
    "favoriteTopping = Olives\n",
    "\n",
    "print favoriteTopping"
   ]
  },
  {
   "cell_type": "code",
   "execution_count": 73,
   "id": "2169d78e-e9ce-4163-b29e-bc83a9521a92",
   "metadata": {},
   "outputs": [],
   "source": [
    "data Shape = Circle (Double, Double) Double | Triangle (Double, Double) (Double, Double) (Double, Double)"
   ]
  },
  {
   "cell_type": "code",
   "execution_count": 74,
   "id": "952831b2-cf8b-4bc4-aa3b-e3c3adbffebc",
   "metadata": {},
   "outputs": [],
   "source": [
    "type Point = (Double, Double)\n",
    "type Radius = Double\n",
    "data Shape = Circle Point Radius | Triangle Point Point Point\n",
    "    deriving Show"
   ]
  },
  {
   "cell_type": "code",
   "execution_count": 75,
   "id": "4e723032-482d-496d-8c0a-01909c79b25d",
   "metadata": {},
   "outputs": [
    {
     "data": {
      "text/plain": [
       "Circle (10.3,10.5) 100.0"
      ]
     },
     "metadata": {},
     "output_type": "display_data"
    }
   ],
   "source": [
    "gimmeAShape :: Bool -> Shape\n",
    "gimmeAShape True = Circle (10.3,10.5) 100.0\n",
    "gimmeAShape False = Triangle (0.0, 1.1) (1.1, 2.2) (2.2, 3.3)\n",
    "\n",
    "gimmeAShape True"
   ]
  },
  {
   "cell_type": "code",
   "execution_count": 76,
   "id": "4d1e4e8f-9160-4774-85a6-b827db6318ef",
   "metadata": {},
   "outputs": [
    {
     "data": {
      "text/plain": [
       "2.2"
      ]
     },
     "metadata": {},
     "output_type": "display_data"
    }
   ],
   "source": [
    "eatShape :: Shape -> Double\n",
    "eatShape (Circle center radius) = radius\n",
    "eatShape (Triangle _ (_,y) _) = y\n",
    "\n",
    "eatShape (gimmeAShape False)"
   ]
  },
  {
   "cell_type": "code",
   "execution_count": 77,
   "id": "ea0350a1-47fa-40bb-852c-c95c0d69da7f",
   "metadata": {},
   "outputs": [],
   "source": [
    "-- data Recipe ="
   ]
  },
  {
   "cell_type": "markdown",
   "id": "5de71136-9d61-4504-801d-ea99ab31d58a",
   "metadata": {},
   "source": [
    "#### Maybe"
   ]
  },
  {
   "cell_type": "code",
   "execution_count": 78,
   "id": "be66b790-192a-4cd4-b4bd-8b2673a90817",
   "metadata": {},
   "outputs": [
    {
     "data": {
      "text/plain": [
       "2"
      ]
     },
     "metadata": {},
     "output_type": "display_data"
    },
    {
     "ename": "",
     "evalue": "",
     "output_type": "error",
     "traceback": [
      "divide by zero"
     ]
    }
   ],
   "source": [
    "data Maybe a = Just a | Nothing \n",
    "    deriving (Show)\n",
    "\n",
    "divide :: Int -> Int -> Int\n",
    "divide x y = x `div` y\n",
    "\n",
    "divide 10 5\n",
    "divide 10 0"
   ]
  },
  {
   "cell_type": "code",
   "execution_count": 79,
   "id": "b6266cfd-de60-42ea-b76c-a3b5ff733fb4",
   "metadata": {},
   "outputs": [
    {
     "data": {
      "text/plain": [
       "Just 2"
      ]
     },
     "metadata": {},
     "output_type": "display_data"
    },
    {
     "data": {
      "text/plain": [
       "Nothing"
      ]
     },
     "metadata": {},
     "output_type": "display_data"
    }
   ],
   "source": [
    "divide' :: Int -> Int -> Maybe Int\n",
    "divide' x 0 = Nothing\n",
    "divide' x y = Just (x `div` y)\n",
    "\n",
    "divide' 10 5\n",
    "divide' 10 0"
   ]
  },
  {
   "cell_type": "code",
   "execution_count": 80,
   "id": "1fb9e81c-1262-40e4-8af6-0e5cec7db0a9",
   "metadata": {},
   "outputs": [
    {
     "data": {
      "text/plain": [
       "Left \"no\""
      ]
     },
     "metadata": {},
     "output_type": "display_data"
    },
    {
     "data": {
      "text/plain": [
       "Right 40"
      ]
     },
     "metadata": {},
     "output_type": "display_data"
    }
   ],
   "source": [
    "lameDivide :: Int -> Int -> Either String Int\n",
    "lameDivide _ 0 = Left \"no\"\n",
    "lameDivide 7 _ = Left \"sorry I don't like 7\"\n",
    "lameDivide x y = Right (x `div` y)\n",
    "\n",
    "lameDivide 9071 0\n",
    "lameDivide 80 2"
   ]
  },
  {
   "cell_type": "code",
   "execution_count": 81,
   "id": "70c696c5-7233-4973-908f-b9d5cc28c6fc",
   "metadata": {},
   "outputs": [
    {
     "data": {
      "text/html": [
       "<style>/* Styles used for the Hoogle display in the pager */\n",
       ".hoogle-doc {\n",
       "display: block;\n",
       "padding-bottom: 1.3em;\n",
       "padding-left: 0.4em;\n",
       "}\n",
       ".hoogle-code {\n",
       "display: block;\n",
       "font-family: monospace;\n",
       "white-space: pre;\n",
       "}\n",
       ".hoogle-text {\n",
       "display: block;\n",
       "}\n",
       ".hoogle-name {\n",
       "color: green;\n",
       "font-weight: bold;\n",
       "}\n",
       ".hoogle-head {\n",
       "font-weight: bold;\n",
       "}\n",
       ".hoogle-sub {\n",
       "display: block;\n",
       "margin-left: 0.4em;\n",
       "}\n",
       ".hoogle-package {\n",
       "font-weight: bold;\n",
       "font-style: italic;\n",
       "}\n",
       ".hoogle-module {\n",
       "font-weight: bold;\n",
       "}\n",
       ".hoogle-class {\n",
       "font-weight: bold;\n",
       "}\n",
       ".get-type {\n",
       "color: green;\n",
       "font-weight: bold;\n",
       "font-family: monospace;\n",
       "display: block;\n",
       "white-space: pre-wrap;\n",
       "}\n",
       ".show-type {\n",
       "color: green;\n",
       "font-weight: bold;\n",
       "font-family: monospace;\n",
       "margin-left: 1em;\n",
       "}\n",
       ".mono {\n",
       "font-family: monospace;\n",
       "display: block;\n",
       "}\n",
       ".err-msg {\n",
       "color: red;\n",
       "font-style: italic;\n",
       "font-family: monospace;\n",
       "white-space: pre;\n",
       "display: block;\n",
       "}\n",
       "#unshowable {\n",
       "color: red;\n",
       "font-weight: bold;\n",
       "}\n",
       ".err-msg.in.collapse {\n",
       "padding-top: 0.7em;\n",
       "}\n",
       ".highlight-code {\n",
       "white-space: pre;\n",
       "font-family: monospace;\n",
       "}\n",
       ".suggestion-warning { \n",
       "font-weight: bold;\n",
       "color: rgb(200, 130, 0);\n",
       "}\n",
       ".suggestion-error { \n",
       "font-weight: bold;\n",
       "color: red;\n",
       "}\n",
       ".suggestion-name {\n",
       "font-weight: bold;\n",
       "}\n",
       "</style><span class='get-type'>Just :: forall a. a -> Maybe a</span>"
      ],
      "text/plain": [
       "Just :: forall a. a -> Maybe a"
      ]
     },
     "metadata": {},
     "output_type": "display_data"
    },
    {
     "data": {
      "text/html": [
       "<style>/* Styles used for the Hoogle display in the pager */\n",
       ".hoogle-doc {\n",
       "display: block;\n",
       "padding-bottom: 1.3em;\n",
       "padding-left: 0.4em;\n",
       "}\n",
       ".hoogle-code {\n",
       "display: block;\n",
       "font-family: monospace;\n",
       "white-space: pre;\n",
       "}\n",
       ".hoogle-text {\n",
       "display: block;\n",
       "}\n",
       ".hoogle-name {\n",
       "color: green;\n",
       "font-weight: bold;\n",
       "}\n",
       ".hoogle-head {\n",
       "font-weight: bold;\n",
       "}\n",
       ".hoogle-sub {\n",
       "display: block;\n",
       "margin-left: 0.4em;\n",
       "}\n",
       ".hoogle-package {\n",
       "font-weight: bold;\n",
       "font-style: italic;\n",
       "}\n",
       ".hoogle-module {\n",
       "font-weight: bold;\n",
       "}\n",
       ".hoogle-class {\n",
       "font-weight: bold;\n",
       "}\n",
       ".get-type {\n",
       "color: green;\n",
       "font-weight: bold;\n",
       "font-family: monospace;\n",
       "display: block;\n",
       "white-space: pre-wrap;\n",
       "}\n",
       ".show-type {\n",
       "color: green;\n",
       "font-weight: bold;\n",
       "font-family: monospace;\n",
       "margin-left: 1em;\n",
       "}\n",
       ".mono {\n",
       "font-family: monospace;\n",
       "display: block;\n",
       "}\n",
       ".err-msg {\n",
       "color: red;\n",
       "font-style: italic;\n",
       "font-family: monospace;\n",
       "white-space: pre;\n",
       "display: block;\n",
       "}\n",
       "#unshowable {\n",
       "color: red;\n",
       "font-weight: bold;\n",
       "}\n",
       ".err-msg.in.collapse {\n",
       "padding-top: 0.7em;\n",
       "}\n",
       ".highlight-code {\n",
       "white-space: pre;\n",
       "font-family: monospace;\n",
       "}\n",
       ".suggestion-warning { \n",
       "font-weight: bold;\n",
       "color: rgb(200, 130, 0);\n",
       "}\n",
       ".suggestion-error { \n",
       "font-weight: bold;\n",
       "color: red;\n",
       "}\n",
       ".suggestion-name {\n",
       "font-weight: bold;\n",
       "}\n",
       "</style><span class='get-type'>Nothing :: forall a. Maybe a</span>"
      ],
      "text/plain": [
       "Nothing :: forall a. Maybe a"
      ]
     },
     "metadata": {},
     "output_type": "display_data"
    },
    {
     "data": {
      "text/html": [
       "<style>/* Styles used for the Hoogle display in the pager */\n",
       ".hoogle-doc {\n",
       "display: block;\n",
       "padding-bottom: 1.3em;\n",
       "padding-left: 0.4em;\n",
       "}\n",
       ".hoogle-code {\n",
       "display: block;\n",
       "font-family: monospace;\n",
       "white-space: pre;\n",
       "}\n",
       ".hoogle-text {\n",
       "display: block;\n",
       "}\n",
       ".hoogle-name {\n",
       "color: green;\n",
       "font-weight: bold;\n",
       "}\n",
       ".hoogle-head {\n",
       "font-weight: bold;\n",
       "}\n",
       ".hoogle-sub {\n",
       "display: block;\n",
       "margin-left: 0.4em;\n",
       "}\n",
       ".hoogle-package {\n",
       "font-weight: bold;\n",
       "font-style: italic;\n",
       "}\n",
       ".hoogle-module {\n",
       "font-weight: bold;\n",
       "}\n",
       ".hoogle-class {\n",
       "font-weight: bold;\n",
       "}\n",
       ".get-type {\n",
       "color: green;\n",
       "font-weight: bold;\n",
       "font-family: monospace;\n",
       "display: block;\n",
       "white-space: pre-wrap;\n",
       "}\n",
       ".show-type {\n",
       "color: green;\n",
       "font-weight: bold;\n",
       "font-family: monospace;\n",
       "margin-left: 1em;\n",
       "}\n",
       ".mono {\n",
       "font-family: monospace;\n",
       "display: block;\n",
       "}\n",
       ".err-msg {\n",
       "color: red;\n",
       "font-style: italic;\n",
       "font-family: monospace;\n",
       "white-space: pre;\n",
       "display: block;\n",
       "}\n",
       "#unshowable {\n",
       "color: red;\n",
       "font-weight: bold;\n",
       "}\n",
       ".err-msg.in.collapse {\n",
       "padding-top: 0.7em;\n",
       "}\n",
       ".highlight-code {\n",
       "white-space: pre;\n",
       "font-family: monospace;\n",
       "}\n",
       ".suggestion-warning { \n",
       "font-weight: bold;\n",
       "color: rgb(200, 130, 0);\n",
       "}\n",
       ".suggestion-error { \n",
       "font-weight: bold;\n",
       "color: red;\n",
       "}\n",
       ".suggestion-name {\n",
       "font-weight: bold;\n",
       "}\n",
       "</style><span class='get-type'>Left :: forall a b. a -> Either a b</span>"
      ],
      "text/plain": [
       "Left :: forall a b. a -> Either a b"
      ]
     },
     "metadata": {},
     "output_type": "display_data"
    },
    {
     "data": {
      "text/html": [
       "<style>/* Styles used for the Hoogle display in the pager */\n",
       ".hoogle-doc {\n",
       "display: block;\n",
       "padding-bottom: 1.3em;\n",
       "padding-left: 0.4em;\n",
       "}\n",
       ".hoogle-code {\n",
       "display: block;\n",
       "font-family: monospace;\n",
       "white-space: pre;\n",
       "}\n",
       ".hoogle-text {\n",
       "display: block;\n",
       "}\n",
       ".hoogle-name {\n",
       "color: green;\n",
       "font-weight: bold;\n",
       "}\n",
       ".hoogle-head {\n",
       "font-weight: bold;\n",
       "}\n",
       ".hoogle-sub {\n",
       "display: block;\n",
       "margin-left: 0.4em;\n",
       "}\n",
       ".hoogle-package {\n",
       "font-weight: bold;\n",
       "font-style: italic;\n",
       "}\n",
       ".hoogle-module {\n",
       "font-weight: bold;\n",
       "}\n",
       ".hoogle-class {\n",
       "font-weight: bold;\n",
       "}\n",
       ".get-type {\n",
       "color: green;\n",
       "font-weight: bold;\n",
       "font-family: monospace;\n",
       "display: block;\n",
       "white-space: pre-wrap;\n",
       "}\n",
       ".show-type {\n",
       "color: green;\n",
       "font-weight: bold;\n",
       "font-family: monospace;\n",
       "margin-left: 1em;\n",
       "}\n",
       ".mono {\n",
       "font-family: monospace;\n",
       "display: block;\n",
       "}\n",
       ".err-msg {\n",
       "color: red;\n",
       "font-style: italic;\n",
       "font-family: monospace;\n",
       "white-space: pre;\n",
       "display: block;\n",
       "}\n",
       "#unshowable {\n",
       "color: red;\n",
       "font-weight: bold;\n",
       "}\n",
       ".err-msg.in.collapse {\n",
       "padding-top: 0.7em;\n",
       "}\n",
       ".highlight-code {\n",
       "white-space: pre;\n",
       "font-family: monospace;\n",
       "}\n",
       ".suggestion-warning { \n",
       "font-weight: bold;\n",
       "color: rgb(200, 130, 0);\n",
       "}\n",
       ".suggestion-error { \n",
       "font-weight: bold;\n",
       "color: red;\n",
       "}\n",
       ".suggestion-name {\n",
       "font-weight: bold;\n",
       "}\n",
       "</style><span class='get-type'>True :: Bool</span>"
      ],
      "text/plain": [
       "True :: Bool"
      ]
     },
     "metadata": {},
     "output_type": "display_data"
    },
    {
     "data": {
      "text/html": [
       "<style>/* Styles used for the Hoogle display in the pager */\n",
       ".hoogle-doc {\n",
       "display: block;\n",
       "padding-bottom: 1.3em;\n",
       "padding-left: 0.4em;\n",
       "}\n",
       ".hoogle-code {\n",
       "display: block;\n",
       "font-family: monospace;\n",
       "white-space: pre;\n",
       "}\n",
       ".hoogle-text {\n",
       "display: block;\n",
       "}\n",
       ".hoogle-name {\n",
       "color: green;\n",
       "font-weight: bold;\n",
       "}\n",
       ".hoogle-head {\n",
       "font-weight: bold;\n",
       "}\n",
       ".hoogle-sub {\n",
       "display: block;\n",
       "margin-left: 0.4em;\n",
       "}\n",
       ".hoogle-package {\n",
       "font-weight: bold;\n",
       "font-style: italic;\n",
       "}\n",
       ".hoogle-module {\n",
       "font-weight: bold;\n",
       "}\n",
       ".hoogle-class {\n",
       "font-weight: bold;\n",
       "}\n",
       ".get-type {\n",
       "color: green;\n",
       "font-weight: bold;\n",
       "font-family: monospace;\n",
       "display: block;\n",
       "white-space: pre-wrap;\n",
       "}\n",
       ".show-type {\n",
       "color: green;\n",
       "font-weight: bold;\n",
       "font-family: monospace;\n",
       "margin-left: 1em;\n",
       "}\n",
       ".mono {\n",
       "font-family: monospace;\n",
       "display: block;\n",
       "}\n",
       ".err-msg {\n",
       "color: red;\n",
       "font-style: italic;\n",
       "font-family: monospace;\n",
       "white-space: pre;\n",
       "display: block;\n",
       "}\n",
       "#unshowable {\n",
       "color: red;\n",
       "font-weight: bold;\n",
       "}\n",
       ".err-msg.in.collapse {\n",
       "padding-top: 0.7em;\n",
       "}\n",
       ".highlight-code {\n",
       "white-space: pre;\n",
       "font-family: monospace;\n",
       "}\n",
       ".suggestion-warning { \n",
       "font-weight: bold;\n",
       "color: rgb(200, 130, 0);\n",
       "}\n",
       ".suggestion-error { \n",
       "font-weight: bold;\n",
       "color: red;\n",
       "}\n",
       ".suggestion-name {\n",
       "font-weight: bold;\n",
       "}\n",
       "</style><span class='get-type'>Pepperoni :: PizzaTopping</span>"
      ],
      "text/plain": [
       "Pepperoni :: PizzaTopping"
      ]
     },
     "metadata": {},
     "output_type": "display_data"
    }
   ],
   "source": [
    ":type Just\n",
    ":type Nothing\n",
    ":type Left\n",
    ":type True\n",
    ":type Pepperoni"
   ]
  },
  {
   "cell_type": "code",
   "execution_count": 82,
   "id": "135c4054-6891-42a6-b1e5-280d92827851",
   "metadata": {},
   "outputs": [
    {
     "data": {
      "text/plain": [
       "\"12\""
      ]
     },
     "metadata": {},
     "output_type": "display_data"
    }
   ],
   "source": [
    "data Person = Person {name :: String, phone :: String, likesHaskell :: Bool}\n",
    "    deriving Show\n",
    "            \n",
    "isaac :: Person\n",
    "isaac = Person {name = \"Isaac\", phone = \"12\", likesHaskell = True}\n",
    "\n",
    "phone isaac"
   ]
  },
  {
   "cell_type": "code",
   "execution_count": 83,
   "id": "724ddff7-444f-4cad-a34a-297a18cf446f",
   "metadata": {},
   "outputs": [
    {
     "data": {
      "text/html": [
       "<style>/* Styles used for the Hoogle display in the pager */\n",
       ".hoogle-doc {\n",
       "display: block;\n",
       "padding-bottom: 1.3em;\n",
       "padding-left: 0.4em;\n",
       "}\n",
       ".hoogle-code {\n",
       "display: block;\n",
       "font-family: monospace;\n",
       "white-space: pre;\n",
       "}\n",
       ".hoogle-text {\n",
       "display: block;\n",
       "}\n",
       ".hoogle-name {\n",
       "color: green;\n",
       "font-weight: bold;\n",
       "}\n",
       ".hoogle-head {\n",
       "font-weight: bold;\n",
       "}\n",
       ".hoogle-sub {\n",
       "display: block;\n",
       "margin-left: 0.4em;\n",
       "}\n",
       ".hoogle-package {\n",
       "font-weight: bold;\n",
       "font-style: italic;\n",
       "}\n",
       ".hoogle-module {\n",
       "font-weight: bold;\n",
       "}\n",
       ".hoogle-class {\n",
       "font-weight: bold;\n",
       "}\n",
       ".get-type {\n",
       "color: green;\n",
       "font-weight: bold;\n",
       "font-family: monospace;\n",
       "display: block;\n",
       "white-space: pre-wrap;\n",
       "}\n",
       ".show-type {\n",
       "color: green;\n",
       "font-weight: bold;\n",
       "font-family: monospace;\n",
       "margin-left: 1em;\n",
       "}\n",
       ".mono {\n",
       "font-family: monospace;\n",
       "display: block;\n",
       "}\n",
       ".err-msg {\n",
       "color: red;\n",
       "font-style: italic;\n",
       "font-family: monospace;\n",
       "white-space: pre;\n",
       "display: block;\n",
       "}\n",
       "#unshowable {\n",
       "color: red;\n",
       "font-weight: bold;\n",
       "}\n",
       ".err-msg.in.collapse {\n",
       "padding-top: 0.7em;\n",
       "}\n",
       ".highlight-code {\n",
       "white-space: pre;\n",
       "font-family: monospace;\n",
       "}\n",
       ".suggestion-warning { \n",
       "font-weight: bold;\n",
       "color: rgb(200, 130, 0);\n",
       "}\n",
       ".suggestion-error { \n",
       "font-weight: bold;\n",
       "color: red;\n",
       "}\n",
       ".suggestion-name {\n",
       "font-weight: bold;\n",
       "}\n",
       "</style><span class='get-type'>name :: Person -> String</span>"
      ],
      "text/plain": [
       "name :: Person -> String"
      ]
     },
     "metadata": {},
     "output_type": "display_data"
    },
    {
     "data": {
      "text/html": [
       "<style>/* Styles used for the Hoogle display in the pager */\n",
       ".hoogle-doc {\n",
       "display: block;\n",
       "padding-bottom: 1.3em;\n",
       "padding-left: 0.4em;\n",
       "}\n",
       ".hoogle-code {\n",
       "display: block;\n",
       "font-family: monospace;\n",
       "white-space: pre;\n",
       "}\n",
       ".hoogle-text {\n",
       "display: block;\n",
       "}\n",
       ".hoogle-name {\n",
       "color: green;\n",
       "font-weight: bold;\n",
       "}\n",
       ".hoogle-head {\n",
       "font-weight: bold;\n",
       "}\n",
       ".hoogle-sub {\n",
       "display: block;\n",
       "margin-left: 0.4em;\n",
       "}\n",
       ".hoogle-package {\n",
       "font-weight: bold;\n",
       "font-style: italic;\n",
       "}\n",
       ".hoogle-module {\n",
       "font-weight: bold;\n",
       "}\n",
       ".hoogle-class {\n",
       "font-weight: bold;\n",
       "}\n",
       ".get-type {\n",
       "color: green;\n",
       "font-weight: bold;\n",
       "font-family: monospace;\n",
       "display: block;\n",
       "white-space: pre-wrap;\n",
       "}\n",
       ".show-type {\n",
       "color: green;\n",
       "font-weight: bold;\n",
       "font-family: monospace;\n",
       "margin-left: 1em;\n",
       "}\n",
       ".mono {\n",
       "font-family: monospace;\n",
       "display: block;\n",
       "}\n",
       ".err-msg {\n",
       "color: red;\n",
       "font-style: italic;\n",
       "font-family: monospace;\n",
       "white-space: pre;\n",
       "display: block;\n",
       "}\n",
       "#unshowable {\n",
       "color: red;\n",
       "font-weight: bold;\n",
       "}\n",
       ".err-msg.in.collapse {\n",
       "padding-top: 0.7em;\n",
       "}\n",
       ".highlight-code {\n",
       "white-space: pre;\n",
       "font-family: monospace;\n",
       "}\n",
       ".suggestion-warning { \n",
       "font-weight: bold;\n",
       "color: rgb(200, 130, 0);\n",
       "}\n",
       ".suggestion-error { \n",
       "font-weight: bold;\n",
       "color: red;\n",
       "}\n",
       ".suggestion-name {\n",
       "font-weight: bold;\n",
       "}\n",
       "</style><span class='get-type'>phone :: Person -> String</span>"
      ],
      "text/plain": [
       "phone :: Person -> String"
      ]
     },
     "metadata": {},
     "output_type": "display_data"
    },
    {
     "data": {
      "text/html": [
       "<style>/* Styles used for the Hoogle display in the pager */\n",
       ".hoogle-doc {\n",
       "display: block;\n",
       "padding-bottom: 1.3em;\n",
       "padding-left: 0.4em;\n",
       "}\n",
       ".hoogle-code {\n",
       "display: block;\n",
       "font-family: monospace;\n",
       "white-space: pre;\n",
       "}\n",
       ".hoogle-text {\n",
       "display: block;\n",
       "}\n",
       ".hoogle-name {\n",
       "color: green;\n",
       "font-weight: bold;\n",
       "}\n",
       ".hoogle-head {\n",
       "font-weight: bold;\n",
       "}\n",
       ".hoogle-sub {\n",
       "display: block;\n",
       "margin-left: 0.4em;\n",
       "}\n",
       ".hoogle-package {\n",
       "font-weight: bold;\n",
       "font-style: italic;\n",
       "}\n",
       ".hoogle-module {\n",
       "font-weight: bold;\n",
       "}\n",
       ".hoogle-class {\n",
       "font-weight: bold;\n",
       "}\n",
       ".get-type {\n",
       "color: green;\n",
       "font-weight: bold;\n",
       "font-family: monospace;\n",
       "display: block;\n",
       "white-space: pre-wrap;\n",
       "}\n",
       ".show-type {\n",
       "color: green;\n",
       "font-weight: bold;\n",
       "font-family: monospace;\n",
       "margin-left: 1em;\n",
       "}\n",
       ".mono {\n",
       "font-family: monospace;\n",
       "display: block;\n",
       "}\n",
       ".err-msg {\n",
       "color: red;\n",
       "font-style: italic;\n",
       "font-family: monospace;\n",
       "white-space: pre;\n",
       "display: block;\n",
       "}\n",
       "#unshowable {\n",
       "color: red;\n",
       "font-weight: bold;\n",
       "}\n",
       ".err-msg.in.collapse {\n",
       "padding-top: 0.7em;\n",
       "}\n",
       ".highlight-code {\n",
       "white-space: pre;\n",
       "font-family: monospace;\n",
       "}\n",
       ".suggestion-warning { \n",
       "font-weight: bold;\n",
       "color: rgb(200, 130, 0);\n",
       "}\n",
       ".suggestion-error { \n",
       "font-weight: bold;\n",
       "color: red;\n",
       "}\n",
       ".suggestion-name {\n",
       "font-weight: bold;\n",
       "}\n",
       "</style><span class='get-type'>likesHaskell :: Person -> Bool</span>"
      ],
      "text/plain": [
       "likesHaskell :: Person -> Bool"
      ]
     },
     "metadata": {},
     "output_type": "display_data"
    }
   ],
   "source": [
    ":type name\n",
    ":type phone\n",
    ":type likesHaskell"
   ]
  },
  {
   "cell_type": "code",
   "execution_count": 84,
   "id": "39912891-e0f0-45dd-8252-64ef1aa32cf2",
   "metadata": {},
   "outputs": [],
   "source": [
    "-- data Tree a "
   ]
  },
  {
   "cell_type": "code",
   "execution_count": 85,
   "id": "80b57f61-eb5c-49ff-ac68-c9e79149716c",
   "metadata": {},
   "outputs": [],
   "source": [
    "-- insert :: Ord a => Tree a -> a -> Tree a"
   ]
  },
  {
   "cell_type": "code",
   "execution_count": 86,
   "id": "324f34d2-b791-49f5-80df-09cf4947fc94",
   "metadata": {},
   "outputs": [],
   "source": [
    "-- fromList :: Ord a => [a] -> Tree a"
   ]
  },
  {
   "cell_type": "code",
   "execution_count": 87,
   "id": "6ab75582-c56f-410b-83a4-0ea9d103268e",
   "metadata": {},
   "outputs": [],
   "source": [
    "-- toList :: Tree a -> [a]"
   ]
  },
  {
   "cell_type": "code",
   "execution_count": 88,
   "id": "ec12cd31-2d8e-4ecd-837f-e50f7785856b",
   "metadata": {},
   "outputs": [],
   "source": [
    "-- getValue :: Tree a -> Maybe a "
   ]
  },
  {
   "cell_type": "markdown",
   "id": "e4df5cc2-79e3-48a8-a03e-cf85369f8ce8",
   "metadata": {},
   "source": [
    "### Function Composition and Point Free Style"
   ]
  },
  {
   "cell_type": "code",
   "execution_count": 89,
   "id": "8944ce5d-b1b9-4fef-b734-17907af4dffc",
   "metadata": {},
   "outputs": [],
   "source": [
    "(.) :: (b -> c) -> (a -> b) -> (a -> c)\n",
    "f . g = \\x -> f (g x)"
   ]
  },
  {
   "cell_type": "code",
   "execution_count": 90,
   "id": "5503a481-6b17-4970-ba68-f512925b0648",
   "metadata": {},
   "outputs": [
    {
     "ename": "",
     "evalue": "",
     "output_type": "error",
     "traceback": [
      "<interactive>:1:1: error: Variable not in scope: toList :: t0 -> t\n<interactive>:1:9: error: Variable not in scope: fromList :: [a0] -> t0"
     ]
    }
   ],
   "source": [
    "toList (fromList [8,2,4,1,6,5,7,3])\n",
    "(toList . fromList) [8,2,4,1,6,5,7,3]"
   ]
  },
  {
   "cell_type": "code",
   "execution_count": 91,
   "id": "0e9a6511-c1f9-430a-a764-66628a0fb998",
   "metadata": {},
   "outputs": [
    {
     "ename": "",
     "evalue": "",
     "output_type": "error",
     "traceback": [
      "<interactive>:1:5: error:\n    The operator ‘mod’ [infixl 7] of a section\n        must have lower precedence than that of the operand, namely ‘==’ [infix 4]\n        in the section: ‘`mod` 3 == 0’"
     ]
    }
   ],
   "source": [
    "map (`mod` 3 == 0) [1..100]"
   ]
  },
  {
   "cell_type": "code",
   "execution_count": 92,
   "id": "c018f916-9353-4212-a36c-7cf0a933f395",
   "metadata": {},
   "outputs": [
    {
     "data": {
      "text/plain": [
       "[False,False,True,False,False,True,False,False,True,False,False,True,False,False,True,False,False,True,False,False,True,False,False,True,False,False,True,False,False,True,False,False,True,False,False,True,False,False,True,False,False,True,False,False,True,False,False,True,False,False,True,False,False,True,False,False,True,False,False,True,False,False,True,False,False,True,False,False,True,False,False,True,False,False,True,False,False,True,False,False,True,False,False,True,False,False,True,False,False,True,False,False,True,False,False,True,False,False,True,False]"
      ]
     },
     "metadata": {},
     "output_type": "display_data"
    }
   ],
   "source": [
    "map ((==0) . (`mod` 3)) [1..100]"
   ]
  },
  {
   "cell_type": "code",
   "execution_count": 93,
   "id": "167bc942-bc55-4264-84bb-79ad66dd3f8e",
   "metadata": {},
   "outputs": [],
   "source": [
    "count :: String -> Int\n",
    "count xs = length (nub (map toUpper (filter isAlpha xs)))\n",
    "\n",
    "count' :: String -> Int\n",
    "count' xs = (length . nub . (map toUpper) . (filter isAlpha)) xs"
   ]
  },
  {
   "cell_type": "code",
   "execution_count": 94,
   "id": "f9e008f3-4407-42ee-bebc-33f4a446cc82",
   "metadata": {},
   "outputs": [
    {
     "data": {
      "text/plain": [
       "[\"aldi\",\"hyvee\",\"walmart\"]"
      ]
     },
     "metadata": {},
     "output_type": "display_data"
    }
   ],
   "source": [
    "map ((map toLower) . fst) [(\"Aldi\", 100), (\"Hyvee\", 45), (\"Walmart\", 40)]"
   ]
  },
  {
   "cell_type": "code",
   "execution_count": 95,
   "id": "87b0a7a8-df04-4c5d-ad94-dba974ac09f2",
   "metadata": {},
   "outputs": [],
   "source": [
    "getFirst :: [a] -> a\n",
    "getFirst xs = head xs\n",
    "\n",
    "getFirst' :: [a] -> a\n",
    "getFirst' = head"
   ]
  },
  {
   "cell_type": "code",
   "execution_count": 96,
   "id": "0dc2f89d-de5c-4d9f-bd3d-af7412ecc999",
   "metadata": {},
   "outputs": [],
   "source": [
    "count'' :: String -> Int\n",
    "count'' = length . nub . (map toUpper) . (filter isAlpha)"
   ]
  },
  {
   "cell_type": "code",
   "execution_count": 97,
   "id": "ff69a613-7fad-4488-a626-719b4dc0ef7e",
   "metadata": {},
   "outputs": [
    {
     "data": {
      "text/plain": [
       "13"
      ]
     },
     "metadata": {},
     "output_type": "display_data"
    }
   ],
   "source": [
    "(sum . map snd) [(\"Once\", 4), (\"upon\", 4), (\"a\", 1), (\"time\", 4)]"
   ]
  },
  {
   "cell_type": "markdown",
   "id": "0ce3b158-d004-44d6-b080-803d4dd8ed90",
   "metadata": {},
   "source": [
    "[pointfree style converter](http://pointfree.io/)"
   ]
  },
  {
   "cell_type": "code",
   "execution_count": 98,
   "id": "f75dd828-27a1-4f08-8614-13bd90a3b7bc",
   "metadata": {},
   "outputs": [
    {
     "data": {
      "text/plain": [
       "(\"olleh\",\"WORLD\")"
      ]
     },
     "metadata": {},
     "output_type": "display_data"
    }
   ],
   "source": [
    "apply :: (a -> b) -> (c -> d) -> (a, c) -> (b, d)\n",
    "apply f g (x,y) = (f x, g y)\n",
    "\n",
    "apply reverse (map toUpper) (\"hello\", \"world\")"
   ]
  },
  {
   "cell_type": "code",
   "execution_count": 99,
   "id": "a8a7fc6d-81d0-45ac-985a-561636f565b9",
   "metadata": {},
   "outputs": [
    {
     "data": {
      "text/plain": [
       "(\"olleh\",\"WORLD\")"
      ]
     },
     "metadata": {},
     "output_type": "display_data"
    }
   ],
   "source": [
    " apply' = flip flip snd . (ap .) . flip flip fst . ((.) .) . flip . (((.) . (,)) .)\n",
    " \n",
    " apply' reverse (map toUpper) (\"hello\", \"world\")"
   ]
  },
  {
   "cell_type": "markdown",
   "id": "7f22d6ad-400e-4a68-ba1b-e83398005997",
   "metadata": {},
   "source": [
    "[source](https://wiki.haskell.org/Pointfree)"
   ]
  },
  {
   "cell_type": "markdown",
   "id": "07c2bc99-b117-44cf-b67b-01d020c4da13",
   "metadata": {},
   "source": [
    "### Infix operators"
   ]
  },
  {
   "cell_type": "code",
   "execution_count": 100,
   "id": "a247a5c7-017b-49f4-a149-f738f8e5baa9",
   "metadata": {},
   "outputs": [],
   "source": [
    "(+-+) :: (Num a, Ord a) => a -> a -> a\n",
    "x +-+ y\n",
    "    | x > 0 = x - y\n",
    "    | otherwise = x + y"
   ]
  },
  {
   "cell_type": "code",
   "execution_count": 104,
   "id": "da4198c1-707d-410e-92a4-8c02934069d9",
   "metadata": {},
   "outputs": [],
   "source": [
    "-- ($) :: (a -> b) -> a -> b"
   ]
  },
  {
   "cell_type": "code",
   "execution_count": 102,
   "id": "7925e03b-61ca-484a-80fd-55e67e2e3643",
   "metadata": {},
   "outputs": [
    {
     "data": {
      "text/plain": [
       "\"!ZRABOF\""
      ]
     },
     "metadata": {},
     "output_type": "display_data"
    },
    {
     "data": {
      "text/plain": [
       "\"!ZRABOF\""
      ]
     },
     "metadata": {},
     "output_type": "display_data"
    },
    {
     "data": {
      "text/plain": [
       "\"!ZRABOF\""
      ]
     },
     "metadata": {},
     "output_type": "display_data"
    }
   ],
   "source": [
    "reverse (nub (map toUpper \"fooBarrBaz!\"))\n",
    "reverse $ nub (map toUpper \"fooBarrBaz!\")\n",
    "reverse $ nub $ map toUpper \"fooBarrBaz!\"\n"
   ]
  }
 ],
 "metadata": {
  "kernelspec": {
   "display_name": "Haskell",
   "language": "haskell",
   "name": "haskell"
  },
  "language_info": {
   "codemirror_mode": "ihaskell",
   "file_extension": ".hs",
   "mimetype": "text/x-haskell",
   "name": "haskell",
   "pygments_lexer": "Haskell",
   "version": "8.10.7"
  }
 },
 "nbformat": 4,
 "nbformat_minor": 5
}
