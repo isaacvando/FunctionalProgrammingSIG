{
 "cells": [
  {
   "cell_type": "markdown",
   "id": "815f6523-67e9-4a05-b978-5aaee54ccc3b",
   "metadata": {},
   "source": [
    "# Function Programming SIG 12.8.22"
   ]
  },
  {
   "cell_type": "code",
   "execution_count": null,
   "id": "824109ca-3544-4e10-a0dd-7be92197d195",
   "metadata": {},
   "outputs": [],
   "source": [
    ":opt no-lint\n",
    "import Data.List\n",
    "import Data.Char"
   ]
  },
  {
   "cell_type": "markdown",
   "id": "ad529ab7-6159-43de-8222-6ad650de580e",
   "metadata": {},
   "source": [
    "## Functors"
   ]
  },
  {
   "cell_type": "code",
   "execution_count": null,
   "id": "c8d193b1-2bb1-4cce-866b-16db282fc05d",
   "metadata": {},
   "outputs": [],
   "source": [
    "class Functor f where\n",
    "    fmap :: (a -> b) -> f a -> f b"
   ]
  },
  {
   "cell_type": "code",
   "execution_count": null,
   "id": "ea9f1f46-a3ee-4e53-8900-5aae612cb4fd",
   "metadata": {},
   "outputs": [],
   "source": [
    "data Pair a = Pair a a deriving Show"
   ]
  },
  {
   "cell_type": "code",
   "execution_count": null,
   "id": "269295e7-e85c-4b65-ae58-e0f797506525",
   "metadata": {},
   "outputs": [],
   "source": [
    "instance Functor Pair where\n",
    "    fmap myFunc (Pair x y) = Pair (myFunc x) (myFunc y)"
   ]
  },
  {
   "cell_type": "code",
   "execution_count": null,
   "id": "9efe534d-ec74-4501-9147-549c01ed5674",
   "metadata": {},
   "outputs": [],
   "source": [
    "fmap reverse (Pair \"foo\" \"bar\")"
   ]
  },
  {
   "cell_type": "code",
   "execution_count": null,
   "id": "44876f18-34a6-4f24-ac90-061e3bfd67e5",
   "metadata": {},
   "outputs": [],
   "source": [
    "fmap (*100) (Just 5)\n",
    "fmap (*100) Nothing"
   ]
  },
  {
   "cell_type": "markdown",
   "id": "90fe913c-59e9-4f35-a373-67d217985db1",
   "metadata": {},
   "source": [
    "## Monads"
   ]
  },
  {
   "cell_type": "code",
   "execution_count": null,
   "id": "2f745e13-866e-431d-818c-639b417c05b3",
   "metadata": {},
   "outputs": [],
   "source": [
    "class Monad m where\n",
    "    (>>=) :: m a -> (a -> m b) -> m b\n",
    "    return :: a -> m a"
   ]
  },
  {
   "cell_type": "code",
   "execution_count": null,
   "id": "7ca17c6b-b01f-430a-b005-019fa8380339",
   "metadata": {},
   "outputs": [],
   "source": [
    "instance Monad Maybe where\n",
    "-- (>>=) :: Maybe a -> (a -> Maybe b) -> Maybe b\n",
    "    Nothing >>= f = Nothing\n",
    "    Just x >>= f x\n",
    "    return x = Just x"
   ]
  },
  {
   "cell_type": "code",
   "execution_count": null,
   "id": "62bcecda-3098-4f12-b4ef-4986b3d9e226",
   "metadata": {},
   "outputs": [],
   "source": [
    "access :: Int -> [a] -> Maybe a\n",
    "access i xs = if i >= 0 && i < length xs then Just (xs !! i) else Nothing\n",
    "\n",
    "access 0 [1..10]\n",
    "access 10 [1..10]"
   ]
  },
  {
   "cell_type": "code",
   "execution_count": null,
   "id": "bb2acca2-8b08-4452-bb37-e338ff7f98d7",
   "metadata": {},
   "outputs": [],
   "source": [
    "access 0 [[[1,2], [3,4], [5,6]], []]"
   ]
  },
  {
   "cell_type": "code",
   "execution_count": null,
   "id": "68463bfd-16a3-43b9-8bdc-2db06da5285d",
   "metadata": {},
   "outputs": [],
   "source": [
    "access 2 (access 0 [[[1,2], [3,4], [5,6]], []])"
   ]
  },
  {
   "cell_type": "code",
   "execution_count": null,
   "id": "7c68e565-705b-4e28-80ea-96486a8510e1",
   "metadata": {},
   "outputs": [],
   "source": [
    "fmap (access 2) (access 0 [[[1,2], [3,4], [5,6]], []])"
   ]
  },
  {
   "cell_type": "code",
   "execution_count": null,
   "id": "95eb8f05-f875-4086-b262-e79a169edbfc",
   "metadata": {},
   "outputs": [],
   "source": [
    "fmap (access 0) (Just (Just [5,6]))"
   ]
  },
  {
   "cell_type": "code",
   "execution_count": null,
   "id": "7124a888-3e9a-4a13-8d64-91d884d374ea",
   "metadata": {},
   "outputs": [],
   "source": [
    "access 0 [[[1,2], [3,4], [5,6]], []] >>= access 2"
   ]
  },
  {
   "cell_type": "code",
   "execution_count": null,
   "id": "8791b11f-a326-4b9d-b812-5bb1bce5af3d",
   "metadata": {},
   "outputs": [],
   "source": [
    "access 0 [[[1,2], [3,4], [5,6]], []] >>= access 2 >>= access 0"
   ]
  },
  {
   "cell_type": "code",
   "execution_count": null,
   "id": "2a2f14ee-24ae-430d-b669-00cf8b970a34",
   "metadata": {},
   "outputs": [],
   "source": [
    "access 0 [[[1,2], [3,4], [5,6]], []] >>= access 2 >>= access 0"
   ]
  },
  {
   "cell_type": "code",
   "execution_count": null,
   "id": "43432375-0f11-4e87-8393-4847110d2fa2",
   "metadata": {},
   "outputs": [],
   "source": [
    "return [[[1,2], [3,4], [5,6]], []] >>= access 0 >>= access 2 >>= access 0"
   ]
  },
  {
   "cell_type": "markdown",
   "id": "20d9e341-1361-4930-8986-8163882588d3",
   "metadata": {},
   "source": [
    "### The IO Monad"
   ]
  },
  {
   "cell_type": "code",
   "execution_count": null,
   "id": "7166fb3e-9e48-486c-bdec-98c9132d9015",
   "metadata": {},
   "outputs": [],
   "source": [
    ":t putStrLn\n",
    ":t getLine\n",
    "-- (>>=) :: IO a -> (a -> IO b) -> IO b"
   ]
  },
  {
   "cell_type": "code",
   "execution_count": null,
   "id": "fed139ee-50f7-4e55-861a-f12f332c97f7",
   "metadata": {},
   "outputs": [],
   "source": [
    "foo :: IO ()\n",
    "foo = putStrLn \"foo\"\n",
    "\n",
    "foo"
   ]
  },
  {
   "cell_type": "code",
   "execution_count": null,
   "id": "b782a0b4-e21b-4241-8212-9741f2db060c",
   "metadata": {},
   "outputs": [],
   "source": [
    "bar :: IO ()\n",
    "bar = putStrLn \"please enter your name\" \n",
    "    >>= (\\_ -> getLine \n",
    "    >>= (\\x -> putStrLn $ \"your name is \" ++ x))\n",
    "\n",
    "bar"
   ]
  },
  {
   "cell_type": "code",
   "execution_count": null,
   "id": "feed444a-43e6-43ce-88f0-053d3dd53389",
   "metadata": {},
   "outputs": [],
   "source": [
    "bar' :: IO ()\n",
    "bar' = do\n",
    "    putStrLn \"please enter your name\"\n",
    "    x <- getLine\n",
    "    putStrLn $ \"your name is \" ++ x\n",
    "    \n",
    "bar'"
   ]
  },
  {
   "cell_type": "markdown",
   "id": "e669ff26-d0c6-4b30-9e9f-a6ca2e6e29c7",
   "metadata": {},
   "source": [
    "### The List Monad"
   ]
  },
  {
   "cell_type": "code",
   "execution_count": null,
   "id": "6d33207f-1264-4dc5-ae59-cad55f38912f",
   "metadata": {},
   "outputs": [],
   "source": [
    "instance Monad [] where\n",
    "    x >>= f = concat (map f x)\n",
    "    return x = [x]\n",
    "-- (>>=) :: [a] -> (a -> [b]) -> [b]"
   ]
  },
  {
   "cell_type": "code",
   "execution_count": null,
   "id": "47ad663d-ac80-4b34-95b8-97b9f8666263",
   "metadata": {},
   "outputs": [],
   "source": [
    "garble :: [a] -> [a]\n",
    "garble xs = do\n",
    "    x <- reverse xs\n",
    "    y <- [x,x] \n",
    "    return y\n",
    "    \n",
    "garble \"hello world\"\n",
    "garble [1,2,3,4]"
   ]
  },
  {
   "cell_type": "code",
   "execution_count": null,
   "id": "f36c5b0f-c9bc-4409-ad23-8e038734a516",
   "metadata": {},
   "outputs": [],
   "source": [
    "garble' :: [a] -> [a]\n",
    "garble' xs = reverse xs >>= (\\x -> [x,x])\n",
    "\n",
    "garble' \"hello world\""
   ]
  },
  {
   "cell_type": "code",
   "execution_count": null,
   "id": "f8d9fece-0c0b-4c86-b2ed-3479998f2b09",
   "metadata": {},
   "outputs": [],
   "source": [
    "garble'' :: [a] -> [a]\n",
    "garble'' = concat . map (\\x -> [x,x]) . reverse\n",
    "\n",
    "garble'' \"hello world\""
   ]
  },
  {
   "cell_type": "markdown",
   "id": "59531cfe-c945-4bdb-93c0-06f8ad2f69b5",
   "metadata": {},
   "source": [
    "### Monads as Composition"
   ]
  },
  {
   "cell_type": "code",
   "execution_count": null,
   "id": "70ce0264-2327-4794-813b-675f30f5f9d9",
   "metadata": {},
   "outputs": [],
   "source": [
    "(>=>) :: Monad m => (a -> m b) -> (b -> m c) -> (a -> m c)\n",
    "f >=> g = \\x -> f x >>= g"
   ]
  },
  {
   "cell_type": "code",
   "execution_count": null,
   "id": "45317f05-62df-426d-a169-c5b9e5616e6c",
   "metadata": {},
   "outputs": [],
   "source": [
    "(.) :: (b -> c) -> (a -> b) -> (a -> c)\n",
    "g . f = \\x -> g (f x)"
   ]
  },
  {
   "cell_type": "code",
   "execution_count": null,
   "id": "57d8fd0d-16e8-489a-a398-96b2a5c46994",
   "metadata": {},
   "outputs": [],
   "source": [
    "divide :: Double -> Double -> Maybe Double\n",
    "divide _ 0 = Nothing\n",
    "divide x y = Just $ x / y"
   ]
  },
  {
   "cell_type": "code",
   "execution_count": null,
   "id": "13cc49f6-6f91-44e4-a3aa-af6df7e93dee",
   "metadata": {},
   "outputs": [],
   "source": [
    "(reverse . map toUpper) \"hello world\""
   ]
  },
  {
   "cell_type": "code",
   "execution_count": null,
   "id": "505db129-80fb-40c1-9677-1b3440e88ad9",
   "metadata": {},
   "outputs": [],
   "source": [
    "(access 0 >=> divide 3.14) [90.9, 89.32, 0]"
   ]
  },
  {
   "cell_type": "markdown",
   "id": "3afad45d-20df-4d82-b514-f690c22a34b0",
   "metadata": {},
   "source": [
    "### Monad Laws"
   ]
  },
  {
   "cell_type": "markdown",
   "id": "2c954bf7-ce99-471b-9d0d-51a4498d2cfd",
   "metadata": {},
   "source": [
    "Left identity: return >=> f = f  \n",
    "Right identity: g >=> return = g  \n",
    "Associativity: (f >=> g) >=> h = f >=> (g >=> h)  "
   ]
  },
  {
   "cell_type": "markdown",
   "id": "d569f7aa-81db-4075-9970-33bdbfea9470",
   "metadata": {},
   "source": [
    "### Parsing with Megaparsec"
   ]
  },
  {
   "cell_type": "markdown",
   "id": "fb1af425-e5de-43fe-b22d-b2ad1a2689de",
   "metadata": {},
   "source": [
    "[Tutorial](https://markkarpov.com/tutorial/megaparsec.html)"
   ]
  }
 ],
 "metadata": {
  "kernelspec": {
   "display_name": "Haskell",
   "language": "haskell",
   "name": "haskell"
  },
  "language_info": {
   "codemirror_mode": "ihaskell",
   "file_extension": ".hs",
   "mimetype": "text/x-haskell",
   "name": "haskell",
   "pygments_lexer": "Haskell",
   "version": "8.10.7"
  }
 },
 "nbformat": 4,
 "nbformat_minor": 5
}
