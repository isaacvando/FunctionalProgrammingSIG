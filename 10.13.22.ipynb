{
 "cells": [
  {
   "cell_type": "markdown",
   "id": "0a975546-f424-4d8f-b441-d301068cabf0",
   "metadata": {},
   "source": [
    "## Functional Programming SIG 10.13.22\n",
    "### Folds"
   ]
  },
  {
   "cell_type": "code",
   "execution_count": 1,
   "id": "703fcbb3-a433-45a0-badf-bd99dfb321be",
   "metadata": {},
   "outputs": [],
   "source": [
    ":opt no-lint\n",
    "import Data.List\n",
    "import GHC.Show\n",
    "import Data.Void"
   ]
  },
  {
   "cell_type": "code",
   "execution_count": 2,
   "id": "c0198d94-2c00-4522-82b6-f23f44df118e",
   "metadata": {},
   "outputs": [
    {
     "data": {
      "text/plain": [
       "[\"olleh\",\"dlrow\"]"
      ]
     },
     "metadata": {},
     "output_type": "display_data"
    }
   ],
   "source": [
    "map reverse [\"hello\", \"world\"]"
   ]
  },
  {
   "cell_type": "code",
   "execution_count": 3,
   "id": "6e9a3c01-f383-4dde-9687-be6e445c94bd",
   "metadata": {},
   "outputs": [
    {
     "data": {
      "text/plain": [
       "[11,12,13,14,15,16,17,18,19,20,21,22,23,24,25,26,27,28,29,30,31,32,33,34,35,36,37,38,39,40,41,42,43,44,45,46,47,48,49,50,51,52,53,54,55,56,57,58,59,60,61,62,63,64,65,66,67,68,69,70,71,72,73,74,75,76,77,78,79,80,81,82,83,84,85,86,87,88,89,90,91,92,93,94,95,96,97,98,99,100]"
      ]
     },
     "metadata": {},
     "output_type": "display_data"
    }
   ],
   "source": [
    "filter (\\x -> x > 10) [1..100]"
   ]
  },
  {
   "cell_type": "code",
   "execution_count": 4,
   "id": "627ba60b-be02-4fe8-bc16-d64da6808368",
   "metadata": {},
   "outputs": [
    {
     "data": {
      "text/plain": [
       "10"
      ]
     },
     "metadata": {},
     "output_type": "display_data"
    },
    {
     "data": {
      "text/plain": [
       "10"
      ]
     },
     "metadata": {},
     "output_type": "display_data"
    }
   ],
   "source": [
    "foldl (+) 0 [1,2,3,4]\n",
    "sum [1,2,3,4]"
   ]
  },
  {
   "cell_type": "code",
   "execution_count": 5,
   "id": "36f8e6e6-361d-4281-b85c-0a6e63a7b72e",
   "metadata": {},
   "outputs": [
    {
     "data": {
      "text/plain": [
       "\"firstfoobarbaz\""
      ]
     },
     "metadata": {},
     "output_type": "display_data"
    }
   ],
   "source": [
    "concat' :: [[Char]] -> [Char]\n",
    "concat' list = foldl (++) \"first\" list\n",
    "\n",
    "concat' [\"foo\", \"bar\", \"baz\"]"
   ]
  },
  {
   "cell_type": "code",
   "execution_count": 6,
   "id": "2c1cd83f-8891-4666-8ad2-d275c862c6e7",
   "metadata": {},
   "outputs": [
    {
     "data": {
      "text/plain": [
       "[\"three\",\"two\",\"one\"]"
      ]
     },
     "metadata": {},
     "output_type": "display_data"
    }
   ],
   "source": [
    "foldl (\\acc x  -> x:acc) [] [\"one\", \"two\",\"three\"]"
   ]
  },
  {
   "cell_type": "code",
   "execution_count": 7,
   "id": "3d431bdd-76c2-4af7-9723-781e5a066f50",
   "metadata": {},
   "outputs": [
    {
     "data": {
      "text/plain": [
       "False"
      ]
     },
     "metadata": {},
     "output_type": "display_data"
    }
   ],
   "source": [
    "foldl (\\acc x -> acc && (x > 5)) True [1,6,7]"
   ]
  },
  {
   "cell_type": "code",
   "execution_count": 8,
   "id": "9103871e-9ab5-4bfb-ae0b-ddc28b39be7b",
   "metadata": {},
   "outputs": [
    {
     "data": {
      "text/plain": [
       "[1,2,3,4]"
      ]
     },
     "metadata": {},
     "output_type": "display_data"
    }
   ],
   "source": [
    "foldr (\\x acc -> x:acc) [] [1,2,3,4]"
   ]
  },
  {
   "cell_type": "code",
   "execution_count": 9,
   "id": "bca69d89-951c-4a80-bdf2-e6da55bc3a73",
   "metadata": {},
   "outputs": [
    {
     "data": {
      "text/plain": [
       "[\"rab\",\"rab\",\"oof\",\"oof\"]"
      ]
     },
     "metadata": {},
     "output_type": "display_data"
    }
   ],
   "source": [
    "foldr (\\x acc -> acc ++ [x] ++ [x]) [] [\"oof\", \"rab\"]"
   ]
  },
  {
   "cell_type": "code",
   "execution_count": 10,
   "id": "f7343d38-91f2-4123-85e5-b01ff98df552",
   "metadata": {},
   "outputs": [],
   "source": [
    "foldl' :: (b -> a -> b) -> b -> [a] -> b\n",
    "foldl' _ acc [] = acc\n",
    "foldl' f acc (x:xs) = foldl' f (f acc x) xs"
   ]
  },
  {
   "cell_type": "code",
   "execution_count": 11,
   "id": "a26523a2-ffaf-4aaa-9517-0dfbf11ee013",
   "metadata": {},
   "outputs": [
    {
     "data": {
      "text/plain": [
       "\"fbb\""
      ]
     },
     "metadata": {},
     "output_type": "display_data"
    }
   ],
   "source": [
    "foldl' (\\acc (x:xs) -> acc ++ [x]) [] [\"foo\", \"bar\", \"baz\"]"
   ]
  },
  {
   "cell_type": "code",
   "execution_count": 12,
   "id": "80c65374-9319-4c8d-bbf7-d8d4b66d85a9",
   "metadata": {},
   "outputs": [
    {
     "data": {
      "text/html": [
       "<style>/* Styles used for the Hoogle display in the pager */\n",
       ".hoogle-doc {\n",
       "display: block;\n",
       "padding-bottom: 1.3em;\n",
       "padding-left: 0.4em;\n",
       "}\n",
       ".hoogle-code {\n",
       "display: block;\n",
       "font-family: monospace;\n",
       "white-space: pre;\n",
       "}\n",
       ".hoogle-text {\n",
       "display: block;\n",
       "}\n",
       ".hoogle-name {\n",
       "color: green;\n",
       "font-weight: bold;\n",
       "}\n",
       ".hoogle-head {\n",
       "font-weight: bold;\n",
       "}\n",
       ".hoogle-sub {\n",
       "display: block;\n",
       "margin-left: 0.4em;\n",
       "}\n",
       ".hoogle-package {\n",
       "font-weight: bold;\n",
       "font-style: italic;\n",
       "}\n",
       ".hoogle-module {\n",
       "font-weight: bold;\n",
       "}\n",
       ".hoogle-class {\n",
       "font-weight: bold;\n",
       "}\n",
       ".get-type {\n",
       "color: green;\n",
       "font-weight: bold;\n",
       "font-family: monospace;\n",
       "display: block;\n",
       "white-space: pre-wrap;\n",
       "}\n",
       ".show-type {\n",
       "color: green;\n",
       "font-weight: bold;\n",
       "font-family: monospace;\n",
       "margin-left: 1em;\n",
       "}\n",
       ".mono {\n",
       "font-family: monospace;\n",
       "display: block;\n",
       "}\n",
       ".err-msg {\n",
       "color: red;\n",
       "font-style: italic;\n",
       "font-family: monospace;\n",
       "white-space: pre;\n",
       "display: block;\n",
       "}\n",
       "#unshowable {\n",
       "color: red;\n",
       "font-weight: bold;\n",
       "}\n",
       ".err-msg.in.collapse {\n",
       "padding-top: 0.7em;\n",
       "}\n",
       ".highlight-code {\n",
       "white-space: pre;\n",
       "font-family: monospace;\n",
       "}\n",
       ".suggestion-warning { \n",
       "font-weight: bold;\n",
       "color: rgb(200, 130, 0);\n",
       "}\n",
       ".suggestion-error { \n",
       "font-weight: bold;\n",
       "color: red;\n",
       "}\n",
       ".suggestion-name {\n",
       "font-weight: bold;\n",
       "}\n",
       "</style><span class='get-type'>foldr :: forall (t :: * -> *) a b. Foldable t => (a -> b -> b) -> b -> t a -> b</span>"
      ],
      "text/plain": [
       "foldr :: forall (t :: * -> *) a b. Foldable t => (a -> b -> b) -> b -> t a -> b"
      ]
     },
     "metadata": {},
     "output_type": "display_data"
    }
   ],
   "source": [
    ":t foldr"
   ]
  },
  {
   "cell_type": "markdown",
   "id": "43284802-35e4-4a57-b65e-43710619531c",
   "metadata": {},
   "source": [
    "### Algebraic Data Types"
   ]
  },
  {
   "cell_type": "code",
   "execution_count": 13,
   "id": "929b89d3-03c9-47a5-a591-73e63fd00765",
   "metadata": {},
   "outputs": [],
   "source": [
    "a :: Integer\n",
    "a = 7\n",
    "\n",
    "b :: Double\n",
    "b = 10.8\n",
    "\n",
    "c :: Bool\n",
    "c = True\n",
    "\n",
    "d :: Char\n",
    "d = 'f'\n",
    "\n",
    "e :: [Bool]\n",
    "e = [True, False, False]\n",
    "\n",
    "f :: [Double]\n",
    "f = [2.2,0.0]\n",
    "\n",
    "g :: [Char] -- String\n",
    "g = \"i'm g\"\n",
    "\n",
    "foo :: (Double, String) -> String\n",
    "foo (_, st) = reverse st\n",
    "\n",
    "bar :: Bool -> ([a] -> [a])\n",
    "bar _ = reverse"
   ]
  },
  {
   "cell_type": "code",
   "execution_count": 14,
   "id": "90051d3e-2f52-4382-aa3b-2df4b3fa3170",
   "metadata": {},
   "outputs": [],
   "source": [
    "h :: (Int, String)\n",
    "h = (7, \"foo\")\n",
    "\n",
    "j :: (Bool, Bool, Char)\n",
    "j = (False, False, 'a')\n",
    "\n",
    "k :: Either Bool String\n",
    "k = Left True\n",
    "\n",
    "k' :: Either Bool String\n",
    "k' = Right \"I'm a string!\"\n",
    "\n",
    "unreliableGroupMember :: Either String Double\n",
    "unreliableGroupMember = Left \"could not complete work because it was too boring\"\n",
    "\n",
    "unreliableGroupMember' :: Either String Double\n",
    "unreliableGroupMember' = Right 3.14159265"
   ]
  },
  {
   "cell_type": "markdown",
   "id": "b23325f7-48f7-4656-bd99-80cc63b8845f",
   "metadata": {},
   "source": [
    "Why are they called algebraic data types?"
   ]
  },
  {
   "cell_type": "markdown",
   "id": "a197ff46-7a1b-4a04-8176-a794d17fb9ff",
   "metadata": {},
   "source": [
    "Pick any (real) numbers a,b,c.\n",
    "\n",
    "- a + b = b + a \n",
    "- a * b = b * a \n",
    "- a * 1 = a\n",
    "- a + 0 = a\n",
    "- a * 0 = 0\n",
    "- a * (b + c) = (a * b) + (a * c)"
   ]
  },
  {
   "cell_type": "code",
   "execution_count": 15,
   "id": "0831876b-b810-4557-88ee-651495321ec7",
   "metadata": {},
   "outputs": [],
   "source": [
    "x :: ()\n",
    "x = ()\n",
    "\n",
    "absurd :: Void -> String\n",
    "absurd _ = \"betcha can't print this\""
   ]
  },
  {
   "cell_type": "markdown",
   "id": "3147304c-b783-4dc6-99f6-adbbfa28dcfa",
   "metadata": {},
   "source": [
    "(a, b) ~= (b, a) \\\n",
    "Either a b ~= Either b a \\\n",
    "Either () () ~= Bool ~= Either ((),()) ()\n",
    "\n",
    "(a, ()) ~= a ~= ((a,()),())\n",
    "\n",
    "Is Either a () ~= a? \\\n",
    "No! \n",
    "\n",
    "|Either a b| = |a| + |b| \\\n",
    "|(a,b)| = |a| * |b|\n",
    "\n",
    "Either a Void ~= a\n",
    "\n",
    "(a, Void) ~= Void\n",
    "\n",
    "(a, Either b c) ~= Either (a, b) (a, c)\n",
    "\n",
    "Types form a [semiring](https://en.wikipedia.org/wiki/Semiring)!\n"
   ]
  },
  {
   "cell_type": "code",
   "execution_count": null,
   "id": "15178ca0-e016-4ddb-acbd-58b81dc9cce2",
   "metadata": {},
   "outputs": [],
   "source": []
  }
 ],
 "metadata": {
  "kernelspec": {
   "display_name": "Haskell",
   "language": "haskell",
   "name": "haskell"
  },
  "language_info": {
   "codemirror_mode": "ihaskell",
   "file_extension": ".hs",
   "mimetype": "text/x-haskell",
   "name": "haskell",
   "pygments_lexer": "Haskell",
   "version": "8.10.7"
  }
 },
 "nbformat": 4,
 "nbformat_minor": 5
}
