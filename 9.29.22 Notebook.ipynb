{
 "cells": [
  {
   "cell_type": "markdown",
   "id": "32693040",
   "metadata": {},
   "source": [
    "## FP SIG 9.29.22\n",
    "### Review"
   ]
  },
  {
   "cell_type": "code",
   "execution_count": null,
   "id": "7ffc395f",
   "metadata": {},
   "outputs": [],
   "source": [
    "17 * 1729\n",
    "17 + 1729\n",
    "17 - 1729"
   ]
  },
  {
   "cell_type": "code",
   "execution_count": null,
   "id": "747cb7c7",
   "metadata": {},
   "outputs": [],
   "source": [
    "add x y = x + y\n",
    "addTwice x y = add x y + add x y\n",
    "addTwice 10 90"
   ]
  },
  {
   "cell_type": "code",
   "execution_count": null,
   "id": "939e47d9",
   "metadata": {},
   "outputs": [],
   "source": [
    "[1,2,3,4] == 1:2:3:4:[]\n",
    "\"Hello MCA!\" == 'H':'e':'l':'l':'o':' ':'M':'C':'A':'!':[]"
   ]
  },
  {
   "cell_type": "code",
   "execution_count": null,
   "id": "e8eff330",
   "metadata": {},
   "outputs": [],
   "source": [
    "addToList x x' xs = x:x':xs\n",
    "addToList 'h' 'e' \"llo world\""
   ]
  },
  {
   "cell_type": "code",
   "execution_count": null,
   "id": "1c47e7db",
   "metadata": {},
   "outputs": [],
   "source": [
    "import Data.List\n",
    "addReversed :: [a] -> [a] -> [a]\n",
    "addReversed xs ys = reverse xs ++ reverse ys"
   ]
  },
  {
   "cell_type": "code",
   "execution_count": null,
   "id": "24a55e93",
   "metadata": {},
   "outputs": [],
   "source": []
  }
 ],
 "metadata": {
  "kernelspec": {
   "display_name": "Haskell",
   "language": "haskell",
   "name": "haskell"
  },
  "language_info": {
   "codemirror_mode": "ihaskell",
   "file_extension": ".hs",
   "mimetype": "text/x-haskell",
   "name": "haskell",
   "pygments_lexer": "Haskell",
   "version": "3.8.2"
  },
  "vscode": {
   "interpreter": {
    "hash": "31f2aee4e71d21fbe5cf8b01ff0e069b9275f58929596ceb00d14d90e3e16cd6"
   }
  }
 },
 "nbformat": 4,
 "nbformat_minor": 5
}
