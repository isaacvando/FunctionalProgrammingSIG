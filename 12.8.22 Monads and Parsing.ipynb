{
 "cells": [
  {
   "cell_type": "markdown",
   "id": "815f6523-67e9-4a05-b978-5aaee54ccc3b",
   "metadata": {},
   "source": [
    "# Function Programming SIG 12.8.22"
   ]
  },
  {
   "cell_type": "code",
   "execution_count": 4,
   "id": "824109ca-3544-4e10-a0dd-7be92197d195",
   "metadata": {},
   "outputs": [],
   "source": [
    ":opt no-lint\n",
    "import Data.List\n",
    "import Data.Char"
   ]
  },
  {
   "cell_type": "markdown",
   "id": "ad529ab7-6159-43de-8222-6ad650de580e",
   "metadata": {},
   "source": [
    "## Functors"
   ]
  },
  {
   "cell_type": "code",
   "execution_count": 7,
   "id": "c8d193b1-2bb1-4cce-866b-16db282fc05d",
   "metadata": {},
   "outputs": [
    {
     "ename": "",
     "evalue": "",
     "output_type": "error",
     "traceback": [
      "Parse error (line 2, column 19): parse error on input ‘->’"
     ]
    }
   ],
   "source": [
    "class Functor f where\n",
    "    fmap :: (a -> b) -> f a -> f b"
   ]
  },
  {
   "cell_type": "code",
   "execution_count": 11,
   "id": "ea9f1f46-a3ee-4e53-8900-5aae612cb4fd",
   "metadata": {},
   "outputs": [],
   "source": [
    "data Pair a = Pair a a deriving Show"
   ]
  },
  {
   "cell_type": "code",
   "execution_count": 13,
   "id": "269295e7-e85c-4b65-ae58-e0f797506525",
   "metadata": {},
   "outputs": [],
   "source": [
    "instance Functor Pair where\n",
    "    fmap func (Pair x y) = Pair (func x) (func y)"
   ]
  },
  {
   "cell_type": "code",
   "execution_count": 14,
   "id": "9efe534d-ec74-4501-9147-549c01ed5674",
   "metadata": {},
   "outputs": [
    {
     "data": {
      "text/plain": [
       "Pair \"oof\" \"rab\""
      ]
     },
     "metadata": {},
     "output_type": "display_data"
    }
   ],
   "source": [
    "fmap reverse (Pair \"foo\" \"bar\")"
   ]
  },
  {
   "cell_type": "code",
   "execution_count": 15,
   "id": "44876f18-34a6-4f24-ac90-061e3bfd67e5",
   "metadata": {},
   "outputs": [
    {
     "data": {
      "text/plain": [
       "Just 500"
      ]
     },
     "metadata": {},
     "output_type": "display_data"
    },
    {
     "data": {
      "text/plain": [
       "Nothing"
      ]
     },
     "metadata": {},
     "output_type": "display_data"
    }
   ],
   "source": [
    "fmap (*100) (Just 5)\n",
    "fmap (*100) Nothing"
   ]
  },
  {
   "cell_type": "markdown",
   "id": "90fe913c-59e9-4f35-a373-67d217985db1",
   "metadata": {},
   "source": [
    "## Monads"
   ]
  },
  {
   "cell_type": "code",
   "execution_count": null,
   "id": "2f745e13-866e-431d-818c-639b417c05b3",
   "metadata": {},
   "outputs": [],
   "source": [
    "class Monad m where\n",
    "    (>>=) :: m a -> (a -> m b) -> m b\n",
    "    return :: a -> m a"
   ]
  },
  {
   "cell_type": "code",
   "execution_count": null,
   "id": "7ca17c6b-b01f-430a-b005-019fa8380339",
   "metadata": {},
   "outputs": [],
   "source": [
    "instance Monad Maybe where\n",
    "    Nothing >>= f = Nothing\n",
    "    Just x >>= f x\n",
    "    return x = Just x\n",
    "-- (>>=) :: Maybe a -> (a -> Maybe b) -> Maybe b"
   ]
  },
  {
   "cell_type": "code",
   "execution_count": 32,
   "id": "62bcecda-3098-4f12-b4ef-4986b3d9e226",
   "metadata": {},
   "outputs": [
    {
     "data": {
      "text/plain": [
       "Just 1"
      ]
     },
     "metadata": {},
     "output_type": "display_data"
    },
    {
     "data": {
      "text/plain": [
       "Nothing"
      ]
     },
     "metadata": {},
     "output_type": "display_data"
    }
   ],
   "source": [
    "access :: Int -> [a] -> Maybe a\n",
    "access i xs = if i >= 0 && i < length xs then Just (xs !! i) else Nothing\n",
    "\n",
    "access 0 [1..10]\n",
    "access 10 [1..10]"
   ]
  },
  {
   "cell_type": "code",
   "execution_count": 46,
   "id": "bb2acca2-8b08-4452-bb37-e338ff7f98d7",
   "metadata": {},
   "outputs": [
    {
     "data": {
      "text/plain": [
       "Just [[1,2],[3,4],[5,6]]"
      ]
     },
     "metadata": {},
     "output_type": "display_data"
    }
   ],
   "source": [
    "access 0 [[[1,2], [3,4], [5,6]], []]"
   ]
  },
  {
   "cell_type": "code",
   "execution_count": 48,
   "id": "68463bfd-16a3-43b9-8bdc-2db06da5285d",
   "metadata": {},
   "outputs": [
    {
     "ename": "",
     "evalue": "",
     "output_type": "error",
     "traceback": [
      "<interactive>:1:11: error:\n    • Couldn't match expected type ‘[a]’ with actual type ‘Maybe [[a0]]’\n    • In the second argument of ‘access’, namely ‘(access 0 [[[1, 2], [3, 4], [5, 6]], []])’\n      In the expression: access 2 (access 0 [[[1, 2], [3, 4], [5, 6]], []])\n      In an equation for ‘it’: it = access 2 (access 0 [[[1, ....], [3, ....], ....], []])\n    • Relevant bindings include it :: Maybe a (bound at <interactive>:1:1)"
     ]
    }
   ],
   "source": [
    "access 2 (access 0 [[[1,2], [3,4], [5,6]], []])"
   ]
  },
  {
   "cell_type": "code",
   "execution_count": 49,
   "id": "7c68e565-705b-4e28-80ea-96486a8510e1",
   "metadata": {},
   "outputs": [
    {
     "data": {
      "text/plain": [
       "Just (Just [5,6])"
      ]
     },
     "metadata": {},
     "output_type": "display_data"
    }
   ],
   "source": [
    "fmap (access 2) (access 0 [[[1,2], [3,4], [5,6]], []])"
   ]
  },
  {
   "cell_type": "code",
   "execution_count": 51,
   "id": "95eb8f05-f875-4086-b262-e79a169edbfc",
   "metadata": {},
   "outputs": [
    {
     "ename": "",
     "evalue": "",
     "output_type": "error",
     "traceback": [
      "<interactive>:1:18: error:\n    • Couldn't match type ‘Maybe [a0]’ with ‘[a]’\n      Expected type: Maybe [a]\n        Actual type: Maybe (Maybe [a0])\n    • In the second argument of ‘fmap’, namely ‘(Just (Just [5, 6]))’\n      In the expression: fmap (access 0) (Just (Just [5, 6]))\n      In an equation for ‘it’: it = fmap (access 0) (Just (Just [5, 6]))\n    • Relevant bindings include it :: Maybe (Maybe a) (bound at <interactive>:1:1)"
     ]
    }
   ],
   "source": [
    "fmap (access 0) (Just (Just [5,6]))"
   ]
  },
  {
   "cell_type": "code",
   "execution_count": 52,
   "id": "7124a888-3e9a-4a13-8d64-91d884d374ea",
   "metadata": {},
   "outputs": [
    {
     "data": {
      "text/plain": [
       "Just [5,6]"
      ]
     },
     "metadata": {},
     "output_type": "display_data"
    }
   ],
   "source": [
    "access 0 [[[1,2], [3,4], [5,6]], []] >>= access 2"
   ]
  },
  {
   "cell_type": "code",
   "execution_count": 53,
   "id": "8791b11f-a326-4b9d-b812-5bb1bce5af3d",
   "metadata": {},
   "outputs": [
    {
     "data": {
      "text/plain": [
       "Just 5"
      ]
     },
     "metadata": {},
     "output_type": "display_data"
    }
   ],
   "source": [
    "access 0 [[[1,2], [3,4], [5,6]], []] >>= access 2 >>= access 0"
   ]
  },
  {
   "cell_type": "code",
   "execution_count": 57,
   "id": "2a2f14ee-24ae-430d-b669-00cf8b970a34",
   "metadata": {},
   "outputs": [
    {
     "data": {
      "text/plain": [
       "Just 5"
      ]
     },
     "metadata": {},
     "output_type": "display_data"
    }
   ],
   "source": [
    "access 0 [[[1,2], [3,4], [5,6]], []] >>= access 2 >>= access 0"
   ]
  },
  {
   "cell_type": "code",
   "execution_count": 60,
   "id": "43432375-0f11-4e87-8393-4847110d2fa2",
   "metadata": {},
   "outputs": [
    {
     "data": {
      "text/plain": [
       "Just 5"
      ]
     },
     "metadata": {},
     "output_type": "display_data"
    }
   ],
   "source": [
    "return [[[1,2], [3,4], [5,6]], []] >>= access 0 >>= access 2 >>= access 0"
   ]
  },
  {
   "cell_type": "markdown",
   "id": "20d9e341-1361-4930-8986-8163882588d3",
   "metadata": {},
   "source": [
    "### The IO Monad"
   ]
  },
  {
   "cell_type": "code",
   "execution_count": 80,
   "id": "7166fb3e-9e48-486c-bdec-98c9132d9015",
   "metadata": {},
   "outputs": [
    {
     "data": {
      "text/html": [
       "<style>/* Styles used for the Hoogle display in the pager */\n",
       ".hoogle-doc {\n",
       "display: block;\n",
       "padding-bottom: 1.3em;\n",
       "padding-left: 0.4em;\n",
       "}\n",
       ".hoogle-code {\n",
       "display: block;\n",
       "font-family: monospace;\n",
       "white-space: pre;\n",
       "}\n",
       ".hoogle-text {\n",
       "display: block;\n",
       "}\n",
       ".hoogle-name {\n",
       "color: green;\n",
       "font-weight: bold;\n",
       "}\n",
       ".hoogle-head {\n",
       "font-weight: bold;\n",
       "}\n",
       ".hoogle-sub {\n",
       "display: block;\n",
       "margin-left: 0.4em;\n",
       "}\n",
       ".hoogle-package {\n",
       "font-weight: bold;\n",
       "font-style: italic;\n",
       "}\n",
       ".hoogle-module {\n",
       "font-weight: bold;\n",
       "}\n",
       ".hoogle-class {\n",
       "font-weight: bold;\n",
       "}\n",
       ".get-type {\n",
       "color: green;\n",
       "font-weight: bold;\n",
       "font-family: monospace;\n",
       "display: block;\n",
       "white-space: pre-wrap;\n",
       "}\n",
       ".show-type {\n",
       "color: green;\n",
       "font-weight: bold;\n",
       "font-family: monospace;\n",
       "margin-left: 1em;\n",
       "}\n",
       ".mono {\n",
       "font-family: monospace;\n",
       "display: block;\n",
       "}\n",
       ".err-msg {\n",
       "color: red;\n",
       "font-style: italic;\n",
       "font-family: monospace;\n",
       "white-space: pre;\n",
       "display: block;\n",
       "}\n",
       "#unshowable {\n",
       "color: red;\n",
       "font-weight: bold;\n",
       "}\n",
       ".err-msg.in.collapse {\n",
       "padding-top: 0.7em;\n",
       "}\n",
       ".highlight-code {\n",
       "white-space: pre;\n",
       "font-family: monospace;\n",
       "}\n",
       ".suggestion-warning { \n",
       "font-weight: bold;\n",
       "color: rgb(200, 130, 0);\n",
       "}\n",
       ".suggestion-error { \n",
       "font-weight: bold;\n",
       "color: red;\n",
       "}\n",
       ".suggestion-name {\n",
       "font-weight: bold;\n",
       "}\n",
       "</style><span class='get-type'>putStrLn :: String -> IO ()</span>"
      ],
      "text/plain": [
       "putStrLn :: String -> IO ()"
      ]
     },
     "metadata": {},
     "output_type": "display_data"
    },
    {
     "data": {
      "text/html": [
       "<style>/* Styles used for the Hoogle display in the pager */\n",
       ".hoogle-doc {\n",
       "display: block;\n",
       "padding-bottom: 1.3em;\n",
       "padding-left: 0.4em;\n",
       "}\n",
       ".hoogle-code {\n",
       "display: block;\n",
       "font-family: monospace;\n",
       "white-space: pre;\n",
       "}\n",
       ".hoogle-text {\n",
       "display: block;\n",
       "}\n",
       ".hoogle-name {\n",
       "color: green;\n",
       "font-weight: bold;\n",
       "}\n",
       ".hoogle-head {\n",
       "font-weight: bold;\n",
       "}\n",
       ".hoogle-sub {\n",
       "display: block;\n",
       "margin-left: 0.4em;\n",
       "}\n",
       ".hoogle-package {\n",
       "font-weight: bold;\n",
       "font-style: italic;\n",
       "}\n",
       ".hoogle-module {\n",
       "font-weight: bold;\n",
       "}\n",
       ".hoogle-class {\n",
       "font-weight: bold;\n",
       "}\n",
       ".get-type {\n",
       "color: green;\n",
       "font-weight: bold;\n",
       "font-family: monospace;\n",
       "display: block;\n",
       "white-space: pre-wrap;\n",
       "}\n",
       ".show-type {\n",
       "color: green;\n",
       "font-weight: bold;\n",
       "font-family: monospace;\n",
       "margin-left: 1em;\n",
       "}\n",
       ".mono {\n",
       "font-family: monospace;\n",
       "display: block;\n",
       "}\n",
       ".err-msg {\n",
       "color: red;\n",
       "font-style: italic;\n",
       "font-family: monospace;\n",
       "white-space: pre;\n",
       "display: block;\n",
       "}\n",
       "#unshowable {\n",
       "color: red;\n",
       "font-weight: bold;\n",
       "}\n",
       ".err-msg.in.collapse {\n",
       "padding-top: 0.7em;\n",
       "}\n",
       ".highlight-code {\n",
       "white-space: pre;\n",
       "font-family: monospace;\n",
       "}\n",
       ".suggestion-warning { \n",
       "font-weight: bold;\n",
       "color: rgb(200, 130, 0);\n",
       "}\n",
       ".suggestion-error { \n",
       "font-weight: bold;\n",
       "color: red;\n",
       "}\n",
       ".suggestion-name {\n",
       "font-weight: bold;\n",
       "}\n",
       "</style><span class='get-type'>getLine :: IO String</span>"
      ],
      "text/plain": [
       "getLine :: IO String"
      ]
     },
     "metadata": {},
     "output_type": "display_data"
    }
   ],
   "source": [
    ":t putStrLn\n",
    ":t getLine\n",
    "-- (>>=) :: IO a -> (a -> IO b) -> IO b"
   ]
  },
  {
   "cell_type": "code",
   "execution_count": 66,
   "id": "fed139ee-50f7-4e55-861a-f12f332c97f7",
   "metadata": {},
   "outputs": [
    {
     "data": {
      "text/plain": [
       "foo"
      ]
     },
     "metadata": {},
     "output_type": "display_data"
    }
   ],
   "source": [
    "foo :: IO ()\n",
    "foo = putStrLn \"foo\"\n",
    "\n",
    "foo"
   ]
  },
  {
   "cell_type": "code",
   "execution_count": 79,
   "id": "b782a0b4-e21b-4241-8212-9741f2db060c",
   "metadata": {},
   "outputs": [
    {
     "data": {
      "text/plain": [
       "please enter your name\n",
       "your name is foo"
      ]
     },
     "metadata": {},
     "output_type": "display_data"
    }
   ],
   "source": [
    "bar :: IO ()\n",
    "bar = putStrLn \"please enter your name\" \n",
    "    >>= (\\_ -> getLine \n",
    "    >>= (\\x -> putStrLn $ \"your name is \" ++ x))\n",
    "\n",
    "bar"
   ]
  },
  {
   "cell_type": "code",
   "execution_count": 84,
   "id": "feed444a-43e6-43ce-88f0-053d3dd53389",
   "metadata": {},
   "outputs": [
    {
     "data": {
      "text/plain": [
       "please enter your name\n",
       "your name is foo"
      ]
     },
     "metadata": {},
     "output_type": "display_data"
    }
   ],
   "source": [
    "bar' :: IO ()\n",
    "bar' = do\n",
    "    putStrLn \"please enter your name\"\n",
    "    x <- getLine\n",
    "    putStrLn $ \"your name is \" ++ x\n",
    "    \n",
    "bar'"
   ]
  },
  {
   "cell_type": "markdown",
   "id": "e669ff26-d0c6-4b30-9e9f-a6ca2e6e29c7",
   "metadata": {},
   "source": [
    "### The List Monad"
   ]
  },
  {
   "cell_type": "code",
   "execution_count": null,
   "id": "6d33207f-1264-4dc5-ae59-cad55f38912f",
   "metadata": {},
   "outputs": [],
   "source": [
    "instance Monad [] where\n",
    "    x >>= f = concat (map f x)\n",
    "    return x = [x]\n",
    "-- (>>=) :: [a] -> (a -> [b]) -> [b]"
   ]
  },
  {
   "cell_type": "code",
   "execution_count": 92,
   "id": "47ad663d-ac80-4b34-95b8-97b9f8666263",
   "metadata": {},
   "outputs": [
    {
     "data": {
      "text/plain": [
       "\"ddllrrooww  oolllleehh\""
      ]
     },
     "metadata": {},
     "output_type": "display_data"
    },
    {
     "data": {
      "text/plain": [
       "[4,4,3,3,2,2,1,1]"
      ]
     },
     "metadata": {},
     "output_type": "display_data"
    }
   ],
   "source": [
    "garble :: [a] -> [a]\n",
    "garble xs = do\n",
    "    x <- reverse xs\n",
    "    y <- [x,x] \n",
    "    return y\n",
    "    \n",
    "garble \"hello world\"\n",
    "garble [1,2,3,4]"
   ]
  },
  {
   "cell_type": "code",
   "execution_count": 91,
   "id": "f36c5b0f-c9bc-4409-ad23-8e038734a516",
   "metadata": {},
   "outputs": [
    {
     "data": {
      "text/plain": [
       "\"ddllrrooww  oolllleehh\""
      ]
     },
     "metadata": {},
     "output_type": "display_data"
    }
   ],
   "source": [
    "garble' :: [a] -> [a]\n",
    "garble' xs = reverse xs >>= (\\x -> [x,x])\n",
    "\n",
    "garble' \"hello world\""
   ]
  },
  {
   "cell_type": "code",
   "execution_count": 95,
   "id": "f8d9fece-0c0b-4c86-b2ed-3479998f2b09",
   "metadata": {},
   "outputs": [
    {
     "data": {
      "text/plain": [
       "\"ddllrrooww  oolllleehh\""
      ]
     },
     "metadata": {},
     "output_type": "display_data"
    }
   ],
   "source": [
    "garble'' :: [a] -> [a]\n",
    "garble'' = concat . map (\\x -> [x,x]) . reverse\n",
    "\n",
    "garble'' \"hello world\""
   ]
  },
  {
   "cell_type": "code",
   "execution_count": null,
   "id": "01f09aaa-1b0e-4b1b-a064-9e5f0dbf692a",
   "metadata": {},
   "outputs": [],
   "source": []
  }
 ],
 "metadata": {
  "kernelspec": {
   "display_name": "Haskell",
   "language": "haskell",
   "name": "haskell"
  },
  "language_info": {
   "codemirror_mode": "ihaskell",
   "file_extension": ".hs",
   "mimetype": "text/x-haskell",
   "name": "haskell",
   "pygments_lexer": "Haskell",
   "version": "8.10.7"
  }
 },
 "nbformat": 4,
 "nbformat_minor": 5
}
