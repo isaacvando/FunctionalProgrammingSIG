{
 "cells": [
  {
   "cell_type": "markdown",
   "id": "d9ed4692-0b1d-4c16-9ec8-a591cb4fc8fe",
   "metadata": {},
   "source": [
    "## Functional Programming SIG 11.10.22"
   ]
  },
  {
   "cell_type": "code",
   "execution_count": 3,
   "id": "d16ddbf1-0662-4316-85cd-eb5a79111122",
   "metadata": {},
   "outputs": [],
   "source": [
    ":opt no-lint\n",
    "import Data.List\n",
    "import Data.Char"
   ]
  },
  {
   "cell_type": "markdown",
   "id": "b8327ae8-b4ef-4500-b22e-f8c6db20081a",
   "metadata": {},
   "source": [
    "### Infix operators"
   ]
  },
  {
   "cell_type": "code",
   "execution_count": 8,
   "id": "f15ff24b-633a-4a2b-b782-8c72dda8397d",
   "metadata": {},
   "outputs": [
    {
     "data": {
      "text/plain": [
       "-3"
      ]
     },
     "metadata": {},
     "output_type": "display_data"
    }
   ],
   "source": [
    "-- infixl 2 +-+\n",
    "infixr 7 +-+\n",
    "(+-+) :: (Num a, Ord a) => a -> a -> a\n",
    "x +-+ y\n",
    "    | x > 0 = x - y\n",
    "    | otherwise = x + y\n",
    "    \n",
    "10 +-+ 9 +-+ (-4)"
   ]
  },
  {
   "cell_type": "code",
   "execution_count": 9,
   "id": "1e2d074d-9c2e-4a79-a1e1-37cfe5262c94",
   "metadata": {},
   "outputs": [],
   "source": [
    "infixr 0 $\n",
    "($) :: (a -> b) -> a -> b\n",
    "f $ x = f x"
   ]
  },
  {
   "cell_type": "code",
   "execution_count": 10,
   "id": "d0a4a98c-9008-4660-94b5-e78a195a3243",
   "metadata": {},
   "outputs": [
    {
     "data": {
      "text/plain": [
       "\"!ZRABOF\""
      ]
     },
     "metadata": {},
     "output_type": "display_data"
    },
    {
     "data": {
      "text/plain": [
       "\"!ZRABOF\""
      ]
     },
     "metadata": {},
     "output_type": "display_data"
    },
    {
     "data": {
      "text/plain": [
       "\"!ZRABOF\""
      ]
     },
     "metadata": {},
     "output_type": "display_data"
    }
   ],
   "source": [
    "reverse (nub (map toUpper \"fooBarrBaz!\"))\n",
    "reverse $ nub (map toUpper \"fooBarrBaz!\")\n",
    "reverse $ nub $ map toUpper \"fooBarrBaz!\""
   ]
  },
  {
   "cell_type": "code",
   "execution_count": 11,
   "id": "92672281-31f2-410d-ba9b-b4bfc58551d1",
   "metadata": {},
   "outputs": [
    {
     "data": {
      "text/plain": [
       "[4,4,0]"
      ]
     },
     "metadata": {},
     "output_type": "display_data"
    }
   ],
   "source": [
    "map ($ 2) [(+2), (*2), (`mod` 2)] :: [Int]"
   ]
  },
  {
   "cell_type": "markdown",
   "id": "b37bec5d-ebd4-4858-af0b-faa009635f18",
   "metadata": {},
   "source": [
    "### Type Classes"
   ]
  },
  {
   "cell_type": "code",
   "execution_count": 13,
   "id": "11717556-bd04-4755-8737-f23cbadb51a4",
   "metadata": {},
   "outputs": [],
   "source": [
    "addThings :: Num a => a -> a -> a\n",
    "addThings x y = x + y"
   ]
  },
  {
   "cell_type": "code",
   "execution_count": 14,
   "id": "27c2c7e8-f4e1-445f-bda0-a458c60452c4",
   "metadata": {},
   "outputs": [],
   "source": [
    "sortThings :: Ord a => [a] -> [a]\n",
    "sortThings xs = sort xs"
   ]
  },
  {
   "cell_type": "code",
   "execution_count": null,
   "id": "b0b282c1-2d13-42e2-a080-93ecf98d90bc",
   "metadata": {},
   "outputs": [],
   "source": [
    ":info Num"
   ]
  },
  {
   "cell_type": "code",
   "execution_count": null,
   "id": "8e323575-6222-4e05-a577-58bb83608557",
   "metadata": {},
   "outputs": [],
   "source": [
    ":info Integral"
   ]
  },
  {
   "cell_type": "code",
   "execution_count": null,
   "id": "03ba6fbe-4759-4dcc-9941-89148e86c56a",
   "metadata": {},
   "outputs": [],
   "source": [
    ":info Floating"
   ]
  },
  {
   "cell_type": "code",
   "execution_count": null,
   "id": "aad61648-9327-4b7a-bdca-33ee5d69799e",
   "metadata": {},
   "outputs": [],
   "source": [
    ":info Ord"
   ]
  },
  {
   "cell_type": "code",
   "execution_count": null,
   "id": "6dc56c22-b1a2-4241-8b0f-4d76071a6e43",
   "metadata": {},
   "outputs": [],
   "source": [
    ":info Eq"
   ]
  },
  {
   "cell_type": "code",
   "execution_count": null,
   "id": "44dadf29-4e36-4318-97f1-931afa1fba71",
   "metadata": {},
   "outputs": [],
   "source": [
    ":info Read"
   ]
  },
  {
   "cell_type": "code",
   "execution_count": null,
   "id": "6f45f71f-09e6-4788-80c4-4dc16b83301f",
   "metadata": {},
   "outputs": [],
   "source": [
    ":info Show"
   ]
  },
  {
   "cell_type": "code",
   "execution_count": 15,
   "id": "b3148cce-cc04-4d82-83a1-281539311afd",
   "metadata": {},
   "outputs": [],
   "source": [
    "class Boolish a where\n",
    "    truthy :: a -> Bool"
   ]
  },
  {
   "cell_type": "code",
   "execution_count": 16,
   "id": "2c046845-4d34-4455-9f15-40a3ae368d10",
   "metadata": {},
   "outputs": [],
   "source": [
    "instance Boolish Int where\n",
    "    truthy x = x /= 0"
   ]
  },
  {
   "cell_type": "code",
   "execution_count": 17,
   "id": "24e71f17-69fa-4297-b308-a99f5272e6bd",
   "metadata": {},
   "outputs": [],
   "source": [
    "instance Boolish Char where\n",
    "    truthy x = x < 'f'"
   ]
  },
  {
   "cell_type": "code",
   "execution_count": 18,
   "id": "52dec0a6-0353-4478-83f3-8cba6600fdc2",
   "metadata": {},
   "outputs": [
    {
     "data": {
      "text/plain": [
       "\"Important business logic\""
      ]
     },
     "metadata": {},
     "output_type": "display_data"
    },
    {
     "data": {
      "text/plain": [
       "\"Strategic business KPIs failed\""
      ]
     },
     "metadata": {},
     "output_type": "display_data"
    }
   ],
   "source": [
    "foo :: Boolish a => a -> String\n",
    "foo x \n",
    "    | truthy x = \"Important business logic\"\n",
    "    | otherwise = \"Strategic business KPIs failed\"\n",
    "    \n",
    "foo 'a'\n",
    "foo (0 :: Int)"
   ]
  },
  {
   "cell_type": "markdown",
   "id": "f156b4cb-aa06-42d1-a96f-07f074225cb2",
   "metadata": {},
   "source": [
    "### Functors"
   ]
  },
  {
   "cell_type": "code",
   "execution_count": 19,
   "id": "f70f4333-3db5-4da8-b16f-24646fca3bff",
   "metadata": {},
   "outputs": [
    {
     "data": {
      "text/plain": [
       "Just 5.292941176470588"
      ]
     },
     "metadata": {},
     "output_type": "display_data"
    },
    {
     "data": {
      "text/plain": [
       "Nothing"
      ]
     },
     "metadata": {},
     "output_type": "display_data"
    }
   ],
   "source": [
    "divide :: Double -> Double -> Maybe Double\n",
    "divide _ 0 = Nothing\n",
    "divide x y = Just $ x / y\n",
    "\n",
    "divide 89.98 17\n",
    "divide 999999 0"
   ]
  },
  {
   "cell_type": "code",
   "execution_count": 20,
   "id": "09c09159-871c-49bb-99d4-7bf83fc5a48c",
   "metadata": {},
   "outputs": [
    {
     "ename": "",
     "evalue": "",
     "output_type": "error",
     "traceback": [
      "<interactive>:2:15: error:\n    • No instance for (Fractional (Maybe Double)) arising from the literal ‘3.14159265’\n    • In the first argument of ‘(*)’, namely ‘3.14159265’\n      In the expression: 3.14159265 * divide x y\n      In an equation for ‘compute’: compute x y = 3.14159265 * divide x y\n<interactive>:2:15: error:\n    • No instance for (Num (Maybe Double)) arising from a use of ‘*’\n    • In the expression: 3.14159265 * divide x y\n      In an equation for ‘compute’: compute x y = 3.14159265 * divide x y"
     ]
    }
   ],
   "source": [
    "compute :: Double -> Double -> Maybe Double\n",
    "compute x y = 3.14159265 * divide x y"
   ]
  },
  {
   "cell_type": "code",
   "execution_count": 22,
   "id": "36563ce4-857f-450f-bfa2-d3d31cc8460f",
   "metadata": {},
   "outputs": [
    {
     "data": {
      "text/plain": [
       "Just 3.4906585000000003"
      ]
     },
     "metadata": {},
     "output_type": "display_data"
    },
    {
     "data": {
      "text/plain": [
       "Nothing"
      ]
     },
     "metadata": {},
     "output_type": "display_data"
    }
   ],
   "source": [
    "compute' :: Double -> Double -> Maybe Double\n",
    "compute' x y = case divide x y of\n",
    "    Nothing -> Nothing\n",
    "    Just result -> Just $ 3.14159265 * result\n",
    "    \n",
    "compute' 10 9\n",
    "compute' 900 0"
   ]
  },
  {
   "cell_type": "code",
   "execution_count": 23,
   "id": "94e9495a-ecea-43f6-9f69-fbe1cd42fcdd",
   "metadata": {},
   "outputs": [
    {
     "data": {},
     "metadata": {},
     "output_type": "display_data"
    },
    {
     "data": {
      "text/html": [
       "<div style='background: rgb(247, 247, 247);'><form><textarea id='code'>type Functor :: (* -> *) -> Constraint\n",
       "class Functor f where\n",
       "  fmap :: (a -> b) -> f a -> f b\n",
       "  (<$) :: a -> f b -> f a\n",
       "  {-# MINIMAL fmap #-}\n",
       "  \t-- Defined in ‘GHC.Base’\n",
       "instance Functor (Either a) -- Defined in ‘Data.Either’\n",
       "instance Functor IHaskellTH.Q -- Defined in ‘Language.Haskell.TH.Syntax’\n",
       "instance Functor ManuallySized -- Defined in ‘ihaskell-diagrams-0.3.2.1:IHaskell.Display.Diagrams.ImgSize’\n",
       "instance Functor [] -- Defined in ‘GHC.Base’\n",
       "instance Functor Maybe -- Defined in ‘GHC.Base’\n",
       "instance Functor IO -- Defined in ‘GHC.Base’\n",
       "instance Functor ((->) r) -- Defined in ‘GHC.Base’\n",
       "instance Functor ((,,,) a b c) -- Defined in ‘GHC.Base’\n",
       "instance Functor ((,,) a b) -- Defined in ‘GHC.Base’\n",
       "instance Functor ((,) a) -- Defined in ‘GHC.Base’\n",
       "instance Functor ManuallySampled -- Defined in ‘ihaskell-diagrams-0.3.2.1:IHaskell.Display.Diagrams.Animation’\n",
       "</textarea></form></div><script>CodeMirror.fromTextArea(document.getElementById('code'), {mode: 'haskell', readOnly: 'nocursor'});</script>"
      ],
      "text/plain": [
       "type Functor :: (* -> *) -> Constraint\n",
       "class Functor f where\n",
       "  fmap :: (a -> b) -> f a -> f b\n",
       "  (<$) :: a -> f b -> f a\n",
       "  {-# MINIMAL fmap #-}\n",
       "  \t-- Defined in ‘GHC.Base’\n",
       "instance Functor (Either a) -- Defined in ‘Data.Either’\n",
       "instance Functor IHaskellTH.Q -- Defined in ‘Language.Haskell.TH.Syntax’\n",
       "instance Functor ManuallySized -- Defined in ‘ihaskell-diagrams-0.3.2.1:IHaskell.Display.Diagrams.ImgSize’\n",
       "instance Functor [] -- Defined in ‘GHC.Base’\n",
       "instance Functor Maybe -- Defined in ‘GHC.Base’\n",
       "instance Functor IO -- Defined in ‘GHC.Base’\n",
       "instance Functor ((->) r) -- Defined in ‘GHC.Base’\n",
       "instance Functor ((,,,) a b c) -- Defined in ‘GHC.Base’\n",
       "instance Functor ((,,) a b) -- Defined in ‘GHC.Base’\n",
       "instance Functor ((,) a) -- Defined in ‘GHC.Base’\n",
       "instance Functor ManuallySampled -- Defined in ‘ihaskell-diagrams-0.3.2.1:IHaskell.Display.Diagrams.Animation’"
      ]
     },
     "metadata": {},
     "output_type": "display_data"
    }
   ],
   "source": [
    ":info Functor"
   ]
  },
  {
   "cell_type": "code",
   "execution_count": 25,
   "id": "42e17b91-5070-4ee5-b042-398c6b570ae2",
   "metadata": {},
   "outputs": [
    {
     "data": {
      "text/plain": [
       "Just 3.4906585000000003"
      ]
     },
     "metadata": {},
     "output_type": "display_data"
    },
    {
     "data": {
      "text/plain": [
       "Nothing"
      ]
     },
     "metadata": {},
     "output_type": "display_data"
    }
   ],
   "source": [
    "compute'' :: Double -> Double -> Maybe Double\n",
    "compute'' x y = fmap (* 3.14159265) (divide x y)\n",
    "\n",
    "compute' 10 9\n",
    "compute' 900 0"
   ]
  },
  {
   "cell_type": "code",
   "execution_count": null,
   "id": "7a3c0a53-58bc-4068-8ca8-eedd9b96cdc9",
   "metadata": {},
   "outputs": [],
   "source": [
    "-- fmap :: (String -> String) -> Maybe String -> Maybe String\n",
    "fmap (++ \"foo\") (Just \"bar\")"
   ]
  },
  {
   "cell_type": "code",
   "execution_count": null,
   "id": "c9e871ef-36ea-44b9-9081-c1f29de0e321",
   "metadata": {},
   "outputs": [],
   "source": [
    "-- fmap :: (String -> Bool) -> Maybe String -> Maybe Bool\n",
    "fmap (\\_ -> True) (Just \"I heart types\")"
   ]
  },
  {
   "cell_type": "code",
   "execution_count": null,
   "id": "56c7b1be-b6b5-444e-8d5a-0f351f37b7c6",
   "metadata": {},
   "outputs": [],
   "source": [
    "instance Functor Maybe where\n",
    "    fmap _ Nothing = Nothing\n",
    "    fmap f (Just x) = Just $ f x"
   ]
  },
  {
   "cell_type": "code",
   "execution_count": 27,
   "id": "420cf762-36ec-456c-8d78-9df3713cbd26",
   "metadata": {},
   "outputs": [
    {
     "data": {
      "text/plain": [
       "Right 7800"
      ]
     },
     "metadata": {},
     "output_type": "display_data"
    }
   ],
   "source": [
    "-- fmap :: (Int -> Int) -> Either String Int -> Either String Int\n",
    "fmap (*100) (Right 78) :: Either String Int"
   ]
  },
  {
   "cell_type": "code",
   "execution_count": null,
   "id": "14a8ea00-6405-4cea-999d-a6de631d4be7",
   "metadata": {},
   "outputs": [],
   "source": [
    "instance Functor Either a where\n",
    "    fmap _ (Left x) = Left x\n",
    "    fmap f (Right x) = Right $ f x"
   ]
  },
  {
   "cell_type": "code",
   "execution_count": 28,
   "id": "49623465-47ca-4acf-8510-05c7d4a3e0f7",
   "metadata": {},
   "outputs": [
    {
     "data": {
      "text/plain": [
       "(10,[1,2,3],\"sracecar\")"
      ]
     },
     "metadata": {},
     "output_type": "display_data"
    }
   ],
   "source": [
    "fmap reverse (10, [1,2,3], \"racecars\")"
   ]
  },
  {
   "cell_type": "markdown",
   "id": "e58a6c50-91e3-4064-9d18-4bae55ed8524",
   "metadata": {},
   "source": [
    "##### Functor Laws\n",
    "fmap id = id\n",
    "\n",
    "fmap (f . g) = (fmap f) . (fmap g)\n",
    "\n",
    "[On the Second Functor Law](https://github.com/quchen/articles/blob/master/second_functor_law.md)"
   ]
  },
  {
   "cell_type": "code",
   "execution_count": 29,
   "id": "ec1a90f7-f62f-409e-8478-e3695b022f5b",
   "metadata": {},
   "outputs": [],
   "source": [
    "data Maybe' a = Nothing' | Just' a deriving Show\n",
    "\n",
    "instance Functor Maybe' where -- not a functor mathematically\n",
    "    fmap f Nothing' = Nothing'\n",
    "    fmap f (Just' x) = Nothing'"
   ]
  },
  {
   "cell_type": "code",
   "execution_count": 30,
   "id": "7c312037-7ec9-4d0c-af06-4e75882f6367",
   "metadata": {
    "tags": []
   },
   "outputs": [
    {
     "data": {
      "text/plain": [
       "Nothing'"
      ]
     },
     "metadata": {},
     "output_type": "display_data"
    }
   ],
   "source": [
    "fmap id (Just' \"innocent string\")"
   ]
  },
  {
   "cell_type": "code",
   "execution_count": 31,
   "id": "78e788d2-9095-40ad-a244-8ba007e5d1a5",
   "metadata": {},
   "outputs": [],
   "source": [
    "import Data.Bifunctor"
   ]
  },
  {
   "cell_type": "code",
   "execution_count": null,
   "id": "720b9f91-d54f-4e70-8b6b-c80f7b7160d9",
   "metadata": {},
   "outputs": [],
   "source": [
    ":info Bifunctor"
   ]
  },
  {
   "cell_type": "code",
   "execution_count": 32,
   "id": "43e4caaf-5214-4590-932c-dfb0357d83ed",
   "metadata": {},
   "outputs": [
    {
     "data": {
      "text/plain": [
       "Left 890"
      ]
     },
     "metadata": {},
     "output_type": "display_data"
    }
   ],
   "source": [
    "bimap (*10) (*10.111) (Left 89) :: Either Int Double"
   ]
  },
  {
   "cell_type": "code",
   "execution_count": 33,
   "id": "9ae82d54-1564-4ea4-ac5e-a7227beba072",
   "metadata": {},
   "outputs": [
    {
     "data": {
      "text/plain": [
       "(6,\"FUNCTOR\")"
      ]
     },
     "metadata": {},
     "output_type": "display_data"
    }
   ],
   "source": [
    "bimap (length) (map toUpper) ([1,3..11], \"functor\")"
   ]
  }
 ],
 "metadata": {
  "kernelspec": {
   "display_name": "Haskell",
   "language": "haskell",
   "name": "haskell"
  },
  "language_info": {
   "codemirror_mode": "ihaskell",
   "file_extension": ".hs",
   "mimetype": "text/x-haskell",
   "name": "haskell",
   "pygments_lexer": "Haskell",
   "version": "8.10.7"
  }
 },
 "nbformat": 4,
 "nbformat_minor": 5
}
